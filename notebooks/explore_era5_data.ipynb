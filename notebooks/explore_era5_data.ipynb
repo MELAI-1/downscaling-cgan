{
 "cells": [
  {
   "cell_type": "code",
   "execution_count": 1,
   "metadata": {},
   "outputs": [],
   "source": [
    "%load_ext autoreload\n",
    "%autoreload 2"
   ]
  },
  {
   "cell_type": "code",
   "execution_count": null,
   "metadata": {},
   "outputs": [],
   "source": [
    "import os\n",
    "import pandas as pd\n",
    "import numpy as np\n",
    "import xarray as xr\n",
    "import xesmf as xe\n",
    "import os\n",
    "import sys\n",
    "from pathlib import Path\n",
    "from tqdm import tqdm\n",
    "from glob import glob\n",
    "import matplotlib.pyplot as plt\n",
    "\n",
    "from scipy.stats import boxcox\n",
    "\n",
    "HOME = Path(os.getcwd()).parents[0]\n",
    "\n",
    "sys.path.insert(1, str(HOME))\n",
    "\n",
    "ERA_DATA_PATH = str(HOME / 'system_tests/data/ERA5')\n",
    "\n",
    "from dsrnngan.data import VAR_LOOKUP_ERA5, load_era5_month_raw"
   ]
  },
  {
   "cell_type": "code",
   "execution_count": null,
   "metadata": {},
   "outputs": [],
   "source": [
    "load_era5_month_raw(variable, year, month, latitude_vals=None, longitude_vals=None,\n",
    "                        era_data_dir=ERA5_PATH, interpolate=True)"
   ]
  }
 ],
 "metadata": {
  "kernelspec": {
   "display_name": "Python 3.9.12 ('base')",
   "language": "python",
   "name": "python3"
  },
  "language_info": {
   "codemirror_mode": {
    "name": "ipython",
    "version": 3
   },
   "file_extension": ".py",
   "mimetype": "text/x-python",
   "name": "python",
   "nbconvert_exporter": "python",
   "pygments_lexer": "ipython3",
   "version": "3.9.12"
  },
  "orig_nbformat": 4,
  "vscode": {
   "interpreter": {
    "hash": "e41783afaa3f5d449c229f6d97ffb609c8a0e066baa45e2dd73a3d3295527dac"
   }
  }
 },
 "nbformat": 4,
 "nbformat_minor": 2
}
