{
 "cells": [
  {
   "cell_type": "code",
   "execution_count": 1,
   "metadata": {},
   "outputs": [
    {
     "data": {
      "text/html": [
       "<style>.container { width:100% !important; }</style>"
      ],
      "text/plain": [
       "<IPython.core.display.HTML object>"
      ]
     },
     "metadata": {},
     "output_type": "display_data"
    }
   ],
   "source": [
    "%load_ext autoreload\n",
    "%autoreload 2\n",
    "\n",
    "from IPython.display import display, HTML\n",
    "display(HTML(\"<style>.container { width:100% !important; }</style>\"))"
   ]
  },
  {
   "cell_type": "code",
   "execution_count": 2,
   "metadata": {},
   "outputs": [
    {
     "name": "stderr",
     "output_type": "stream",
     "text": [
      "2023-08-24 09:06:06.589241: W tensorflow/stream_executor/platform/default/dso_loader.cc:64] Could not load dynamic library 'libcudart.so.11.0'; dlerror: libcudart.so.11.0: cannot open shared object file: No such file or directory; LD_LIBRARY_PATH: /sw/lib/hdf5-1.10.6/lib\n",
      "2023-08-24 09:06:06.589296: I tensorflow/stream_executor/cuda/cudart_stub.cc:29] Ignore above cudart dlerror if you do not have a GPU set up on your machine.\n"
     ]
    }
   ],
   "source": [
    "import pickle\n",
    "import os, sys\n",
    "import copy\n",
    "from tqdm import tqdm\n",
    "import numpy as np\n",
    "import pandas as pd\n",
    "import matplotlib.pyplot as plt\n",
    "from pathlib import Path\n",
    "import cartopy.crs as ccrs\n",
    "from matplotlib import pyplot as plt\n",
    "\n",
    "\n",
    "HOME = Path(os.getcwd()).parents[0]\n",
    "\n",
    "sys.path.insert(1, str(HOME))\n",
    "\n",
    "from dsrnngan.evaluation.plots import plot_contourf, plot_quantiles\n",
    "from dsrnngan.data.data import denormalise, DEFAULT_LATITUDE_RANGE, DEFAULT_LONGITUDE_RANGE\n",
    "from dsrnngan.evaluation.benchmarks import QuantileMapper\n",
    "from dsrnngan.utils.utils import load_yaml_file, get_best_model_number\n",
    "from dsrnngan.data.data import denormalise\n",
    "from dsrnngan.evaluation.plots import plot_quantiles, quantile_locs"
   ]
  },
  {
   "cell_type": "code",
   "execution_count": 42,
   "metadata": {},
   "outputs": [
    {
     "ename": "KeyboardInterrupt",
     "evalue": "",
     "output_type": "error",
     "traceback": [
      "\u001b[0;31m---------------------------------------------------------------------------\u001b[0m",
      "\u001b[0;31mKeyboardInterrupt\u001b[0m                         Traceback (most recent call last)",
      "\u001b[1;32m/user/home/uz22147/repos/downscaling-cgan/notebooks/quantile_mapping.ipynb Cell 3\u001b[0m in \u001b[0;36m6\n\u001b[1;32m      <a href='vscode-notebook-cell://ssh-remote%2Bbp1-login/user/home/uz22147/repos/downscaling-cgan/notebooks/quantile_mapping.ipynb#W2sdnNjb2RlLXJlbW90ZQ%3D%3D?line=2'>3</a>\u001b[0m     fcst_corrected \u001b[39m=\u001b[39m pickle\u001b[39m.\u001b[39mload(ifh)\n\u001b[1;32m      <a href='vscode-notebook-cell://ssh-remote%2Bbp1-login/user/home/uz22147/repos/downscaling-cgan/notebooks/quantile_mapping.ipynb#W2sdnNjb2RlLXJlbW90ZQ%3D%3D?line=4'>5</a>\u001b[0m \u001b[39mwith\u001b[39;00m \u001b[39mopen\u001b[39m(os\u001b[39m.\u001b[39mpath\u001b[39m.\u001b[39mjoin(log_folder, \u001b[39mf\u001b[39m\u001b[39m'\u001b[39m\u001b[39mcgan_qmap_15.pkl\u001b[39m\u001b[39m'\u001b[39m), \u001b[39m'\u001b[39m\u001b[39mrb\u001b[39m\u001b[39m'\u001b[39m) \u001b[39mas\u001b[39;00m ifh:\n\u001b[0;32m----> <a href='vscode-notebook-cell://ssh-remote%2Bbp1-login/user/home/uz22147/repos/downscaling-cgan/notebooks/quantile_mapping.ipynb#W2sdnNjb2RlLXJlbW90ZQ%3D%3D?line=5'>6</a>\u001b[0m     cgan_corrected \u001b[39m=\u001b[39m pickle\u001b[39m.\u001b[39;49mload(ifh)\n",
      "\u001b[0;31mKeyboardInterrupt\u001b[0m: "
     ]
    }
   ],
   "source": [
    "# Open quantile mapped forecasts\n",
    "with open(os.path.join(log_folder, f'fcst_qmap_270.pkl'), 'rb') as ifh:\n",
    "    fcst_corrected = pickle.load(ifh)\n",
    "\n",
    "with open(os.path.join(log_folder, f'cgan_qmap_15.pkl'), 'rb') as ifh:\n",
    "    cgan_corrected = pickle.load(ifh)"
   ]
  },
  {
   "cell_type": "code",
   "execution_count": 3,
   "metadata": {},
   "outputs": [],
   "source": [
    "from glob import glob\n",
    "from types import SimpleNamespace\n",
    "from dsrnngan.evaluation.benchmarks import QuantileMapper, quantile_map_grid\n",
    "\n",
    "args = SimpleNamespace(**{'debug': False, 'num_lat_lon_chunks': 1, 'model_type': 'cropped', 'save_data': False})\n",
    "\n",
    "log_folders = {\n",
    "               'cropped': '/user/work/uz22147/logs/cgan/5c577a485fbd1a72/n4000_201806-201905_e10'\n",
    "}\n",
    "\n",
    "# Get best model\n",
    "log_folder = log_folders[args.model_type]\n",
    "\n",
    "model_number = get_best_model_number(log_folder=log_folder)\n",
    "\n",
    "log_folder = log_folders[args.model_type]\n",
    "with open(os.path.join(log_folder, f'arrays-{model_number}.pkl'), 'rb') as ifh:\n",
    "    arrays = pickle.load(ifh)\n",
    "\n",
    "if args.debug:\n",
    "    n_samples = 100\n",
    "else:\n",
    "    n_samples = arrays['truth'].shape[0]\n",
    "    \n",
    "truth_array = arrays['truth'][:n_samples, :, :]\n",
    "samples_gen_array = arrays['samples_gen'][:n_samples, :,:,:]\n",
    "fcst_array = arrays['fcst_array'][:n_samples, :,: ]\n",
    "persisted_fcst_array = arrays['persisted_fcst'][:n_samples, :,: ]\n",
    "ensmean_array = np.mean(arrays['samples_gen'], axis=-1)[:n_samples, :,:]\n",
    "dates = [d[0] for d in arrays['dates']][:n_samples]\n",
    "hours = [h[0] for h in arrays['hours']][:n_samples]\n",
    "\n",
    "assert len(set(list(zip(dates, hours)))) == fcst_array.shape[0], \"Degenerate date/hour combinations\"\n",
    "(n_samples, width, height, ensemble_size) = samples_gen_array.shape\n",
    "\n",
    "###########################\n",
    "\n",
    "###########################\n",
    "\n",
    "# Get lat/lon range from log folder\n",
    "base_folder = '/'.join(log_folder.split('/')[:-1])\n",
    "config = load_yaml_file(os.path.join(base_folder, 'setup_params.yaml'))\n",
    "\n",
    "# Locations\n",
    "min_latitude = config['DATA']['min_latitude']\n",
    "max_latitude = config['DATA']['max_latitude']\n",
    "latitude_step_size = config['DATA']['latitude_step_size']\n",
    "min_longitude = config['DATA']['min_longitude']\n",
    "max_longitude = config['DATA']['max_longitude']\n",
    "longitude_step_size = config['DATA']['longitude_step_size']\n",
    "latitude_range=np.arange(min_latitude, max_latitude, latitude_step_size)\n",
    "longitude_range=np.arange(min_longitude, max_longitude, longitude_step_size)\n",
    "\n",
    "lat_range_list = [np.round(item, 2) for item in sorted(latitude_range)]\n",
    "lon_range_list = [np.round(item, 2) for item in sorted(longitude_range)]\n",
    "\n",
    "special_areas = {'Lake Victoria': {'lat_range': [-3.05,0.95], 'lon_range': [31.55, 34.55], 'color': 'red'},\n",
    "                 'Coastal Kenya/Somalia': {'lat_range': [-4.65, 5.45], 'lon_range': [38.85, 48.3], 'color': 'black'},\n",
    "                 'West EA Rift': {'lat_range': [-4.70,0.30], 'lon_range': [28.25,31.3], 'color': 'green'},\n",
    "                 'East EA Rift': {'lat_range': [-3.15, 1.55], 'lon_range': [33.85,36.55], 'color': 'purple'},\n",
    "                 'NW Ethiopian Highlands': {'lat_range': [6.10, 14.15], 'lon_range': [34.60, 40.30], 'color': 'blue'}}\n",
    "\n",
    "for k, v in special_areas.items():\n",
    "    lat_vals = [lt for lt in lat_range_list if v['lat_range'][0] <= lt <= v['lat_range'][1]]\n",
    "    lon_vals = [ln for ln in lon_range_list if v['lon_range'][0] <= ln <= v['lon_range'][1]]\n",
    "    \n",
    "    if lat_vals and lon_vals:\n",
    " \n",
    "        special_areas[k]['lat_index_range'] = [lat_range_list.index(lat_vals[0]), lat_range_list.index(lat_vals[-1])]\n",
    "        special_areas[k]['lon_index_range'] = [lon_range_list.index(lon_vals[0]), lon_range_list.index(lon_vals[-1])]\n",
    "   "
   ]
  },
  {
   "cell_type": "code",
   "execution_count": 4,
   "metadata": {},
   "outputs": [],
   "source": [
    "     \n",
    "quantile_data_dicts = {'test': {\n",
    "                    'GAN': {'data': samples_gen_array[:, :, :, 0], 'color': 'b', 'marker': '+', 'alpha': 1},\n",
    "                    'Obs (IMERG)': {'data': truth_array, 'color': 'k'},\n",
    "                    'Fcst': {'data': fcst_array, 'color': 'r', 'marker': '+', 'alpha': 1},\n",
    "                    'Fcst + qmap': {'data': None, 'color': 'r', 'marker': 'o', 'alpha': 0.7},\n",
    "                    'GAN + qmap': {'data': None, 'color': 'b', 'marker': 'o', 'alpha': 0.7}\n",
    "                    }}"
   ]
  },
  {
   "cell_type": "code",
   "execution_count": 4,
   "metadata": {},
   "outputs": [
    {
     "name": "stdout",
     "output_type": "stream",
     "text": [
      "100%|██████████| 25/25 [01:28<00:00,  3.55s/it]\n"
     ]
    }
   ],
   "source": [
    "# \n",
    "# ##########################\n",
    "###########################\n",
    "# Use data prepared by the dsrnngan.data.setupdata script\n",
    "fps = glob('/user/work/uz22147/quantile_training_data/*_744.pkl')\n",
    "\n",
    "imerg_train_data = []\n",
    "ifs_train_data = []\n",
    "training_dates = []\n",
    "training_hours = []\n",
    "\n",
    "if args.debug:\n",
    "    fps = fps[:3]\n",
    "\n",
    "for fp in tqdm(fps, file=sys.stdout):\n",
    "    with open(fp, 'rb') as ifh:\n",
    "        training_data = pickle.load(ifh)\n",
    "        \n",
    "    imerg_train_data.append(denormalise(training_data['obs']))\n",
    "    ifs_train_data.append(denormalise(training_data['fcst_array']))\n",
    "\n",
    "    training_dates += [item[0] for item in training_data['dates']]\n",
    "    training_hours += [item[0] for item in training_data['hours']]\n",
    "\n",
    "# Need to account for difference in lat/lon ranges; setupdata incorporates the final lat value whereas \n",
    "# the generated data doesn't\n",
    "imerg_train_data = np.concatenate(imerg_train_data, axis=0)[:,:-1,:-1]\n",
    "ifs_train_data = np.concatenate(ifs_train_data, axis=0)[:,:-1,:-1]"
   ]
  },
  {
   "cell_type": "code",
   "execution_count": 5,
   "metadata": {},
   "outputs": [
    {
     "data": {
      "text/plain": [
       "{'t1_12': {'fcst_quantiles': array([[[ 0.        ,  0.        ,  0.        , ...,  0.        ,\n",
       "            0.        ,  0.        ],\n",
       "          [ 0.        ,  0.        ,  0.        , ...,  0.        ,\n",
       "            0.        ,  0.        ],\n",
       "          [ 0.        ,  0.        ,  0.        , ...,  0.        ,\n",
       "            0.        ,  0.        ],\n",
       "          ...,\n",
       "          [ 0.        ,  0.        ,  0.        , ...,  0.        ,\n",
       "            0.        ,  0.        ],\n",
       "          [ 0.        ,  0.        ,  0.        , ...,  0.        ,\n",
       "            0.        ,  0.        ],\n",
       "          [ 0.        ,  0.        ,  0.        , ...,  0.        ,\n",
       "            0.        ,  0.        ]],\n",
       "  \n",
       "         [[ 0.        ,  0.        ,  0.        , ...,  0.        ,\n",
       "            0.        ,  0.        ],\n",
       "          [ 0.        ,  0.        ,  0.        , ...,  0.        ,\n",
       "            0.        ,  0.        ],\n",
       "          [ 0.        ,  0.        ,  0.        , ...,  0.        ,\n",
       "            0.        ,  0.        ],\n",
       "          ...,\n",
       "          [ 0.        ,  0.        ,  0.        , ...,  0.        ,\n",
       "            0.        ,  0.        ],\n",
       "          [ 0.        ,  0.        ,  0.        , ...,  0.        ,\n",
       "            0.        ,  0.        ],\n",
       "          [ 0.        ,  0.        ,  0.        , ...,  0.        ,\n",
       "            0.        ,  0.        ]],\n",
       "  \n",
       "         [[ 0.        ,  0.        ,  0.        , ...,  0.        ,\n",
       "            0.        ,  0.        ],\n",
       "          [ 0.        ,  0.        ,  0.        , ...,  0.        ,\n",
       "            0.        ,  0.        ],\n",
       "          [ 0.        ,  0.        ,  0.        , ...,  0.        ,\n",
       "            0.        ,  0.        ],\n",
       "          ...,\n",
       "          [ 0.        ,  0.        ,  0.        , ...,  0.        ,\n",
       "            0.        ,  0.        ],\n",
       "          [ 0.        ,  0.        ,  0.        , ...,  0.        ,\n",
       "            0.        ,  0.        ],\n",
       "          [ 0.        ,  0.        ,  0.        , ...,  0.        ,\n",
       "            0.        ,  0.        ]],\n",
       "  \n",
       "         ...,\n",
       "  \n",
       "         [[18.71926888, 18.71926888, 18.71926888, ..., 45.33676595,\n",
       "           45.33676595, 45.33676595],\n",
       "          [18.71926888, 18.71926888, 18.71926888, ..., 45.33676595,\n",
       "           45.33676595, 45.33676595],\n",
       "          [18.71926888, 18.71926888, 18.71926888, ..., 45.33676595,\n",
       "           45.33676595, 45.33676595],\n",
       "          ...,\n",
       "          [17.5866454 , 17.5866454 , 17.5866454 , ..., 14.13982605,\n",
       "           14.13982605, 14.13982605],\n",
       "          [17.5866454 , 17.5866454 , 17.5866454 , ..., 14.13982605,\n",
       "           14.13982605, 14.13982605],\n",
       "          [17.5866454 , 17.5866454 , 17.5866454 , ..., 14.13982605,\n",
       "           14.13982605, 14.13982605]],\n",
       "  \n",
       "         [[18.75178419, 18.75178419, 18.75178419, ..., 45.35966262,\n",
       "           45.35966262, 45.35966262],\n",
       "          [18.75178419, 18.75178419, 18.75178419, ..., 45.35966262,\n",
       "           45.35966262, 45.35966262],\n",
       "          [18.75178419, 18.75178419, 18.75178419, ..., 45.35966262,\n",
       "           45.35966262, 45.35966262],\n",
       "          ...,\n",
       "          [17.67113279, 17.67113279, 17.67113279, ..., 14.20918229,\n",
       "           14.20918229, 14.20918229],\n",
       "          [17.67113279, 17.67113279, 17.67113279, ..., 14.20918229,\n",
       "           14.20918229, 14.20918229],\n",
       "          [17.67113279, 17.67113279, 17.67113279, ..., 14.20918229,\n",
       "           14.20918229, 14.20918229]],\n",
       "  \n",
       "         [[18.78429949, 18.78429949, 18.78429949, ..., 45.3825593 ,\n",
       "           45.3825593 , 45.3825593 ],\n",
       "          [18.78429949, 18.78429949, 18.78429949, ..., 45.3825593 ,\n",
       "           45.3825593 , 45.3825593 ],\n",
       "          [18.78429949, 18.78429949, 18.78429949, ..., 45.3825593 ,\n",
       "           45.3825593 , 45.3825593 ],\n",
       "          ...,\n",
       "          [17.75562018, 17.75562018, 17.75562018, ..., 14.27853853,\n",
       "           14.27853853, 14.27853853],\n",
       "          [17.75562018, 17.75562018, 17.75562018, ..., 14.27853853,\n",
       "           14.27853853, 14.27853853],\n",
       "          [17.75562018, 17.75562018, 17.75562018, ..., 14.27853853,\n",
       "           14.27853853, 14.27853853]]]),\n",
       "  'obs_quantiles': array([[[ 0.        ,  0.        ,  0.        , ...,  0.        ,\n",
       "            0.        ,  0.        ],\n",
       "          [ 0.        ,  0.        ,  0.        , ...,  0.        ,\n",
       "            0.        ,  0.        ],\n",
       "          [ 0.        ,  0.        ,  0.        , ...,  0.        ,\n",
       "            0.        ,  0.        ],\n",
       "          ...,\n",
       "          [ 0.        ,  0.        ,  0.        , ...,  0.        ,\n",
       "            0.        ,  0.        ],\n",
       "          [ 0.        ,  0.        ,  0.        , ...,  0.        ,\n",
       "            0.        ,  0.        ],\n",
       "          [ 0.        ,  0.        ,  0.        , ...,  0.        ,\n",
       "            0.        ,  0.        ]],\n",
       "  \n",
       "         [[ 0.        ,  0.        ,  0.        , ...,  0.        ,\n",
       "            0.        ,  0.        ],\n",
       "          [ 0.        ,  0.        ,  0.        , ...,  0.        ,\n",
       "            0.        ,  0.        ],\n",
       "          [ 0.        ,  0.        ,  0.        , ...,  0.        ,\n",
       "            0.        ,  0.        ],\n",
       "          ...,\n",
       "          [ 0.        ,  0.        ,  0.        , ...,  0.        ,\n",
       "            0.        ,  0.        ],\n",
       "          [ 0.        ,  0.        ,  0.        , ...,  0.        ,\n",
       "            0.        ,  0.        ],\n",
       "          [ 0.        ,  0.        ,  0.        , ...,  0.        ,\n",
       "            0.        ,  0.        ]],\n",
       "  \n",
       "         [[ 0.        ,  0.        ,  0.        , ...,  0.        ,\n",
       "            0.        ,  0.        ],\n",
       "          [ 0.        ,  0.        ,  0.        , ...,  0.        ,\n",
       "            0.        ,  0.        ],\n",
       "          [ 0.        ,  0.        ,  0.        , ...,  0.        ,\n",
       "            0.        ,  0.        ],\n",
       "          ...,\n",
       "          [ 0.        ,  0.        ,  0.        , ...,  0.        ,\n",
       "            0.        ,  0.        ],\n",
       "          [ 0.        ,  0.        ,  0.        , ...,  0.        ,\n",
       "            0.        ,  0.        ],\n",
       "          [ 0.        ,  0.        ,  0.        , ...,  0.        ,\n",
       "            0.        ,  0.        ]],\n",
       "  \n",
       "         ...,\n",
       "  \n",
       "         [[42.8229738 , 42.8229738 , 42.8229738 , ..., 67.34560032,\n",
       "           67.34560032, 67.34560032],\n",
       "          [42.8229738 , 42.8229738 , 42.8229738 , ..., 67.34560032,\n",
       "           67.34560032, 67.34560032],\n",
       "          [42.8229738 , 42.8229738 , 42.8229738 , ..., 67.34560032,\n",
       "           67.34560032, 67.34560032],\n",
       "          ...,\n",
       "          [43.76664898, 43.76664898, 43.76664898, ..., 21.32533491,\n",
       "           21.32533491, 21.32533491],\n",
       "          [43.76664898, 43.76664898, 43.76664898, ..., 21.32533491,\n",
       "           21.32533491, 21.32533491],\n",
       "          [43.76664898, 43.76664898, 43.76664898, ..., 21.32533491,\n",
       "           21.32533491, 21.32533491]],\n",
       "  \n",
       "         [[42.83727959, 42.83727959, 42.83727959, ..., 67.4018651 ,\n",
       "           67.4018651 , 67.4018651 ],\n",
       "          [42.83727959, 42.83727959, 42.83727959, ..., 67.4018651 ,\n",
       "           67.4018651 , 67.4018651 ],\n",
       "          [42.83727959, 42.83727959, 42.83727959, ..., 67.4018651 ,\n",
       "           67.4018651 , 67.4018651 ],\n",
       "          ...,\n",
       "          [43.7805451 , 43.7805451 , 43.7805451 , ..., 21.38938922,\n",
       "           21.38938922, 21.38938922],\n",
       "          [43.7805451 , 43.7805451 , 43.7805451 , ..., 21.38938922,\n",
       "           21.38938922, 21.38938922],\n",
       "          [43.7805451 , 43.7805451 , 43.7805451 , ..., 21.38938922,\n",
       "           21.38938922, 21.38938922]],\n",
       "  \n",
       "         [[42.85158539, 42.85158539, 42.85158539, ..., 67.45812988,\n",
       "           67.45812988, 67.45812988],\n",
       "          [42.85158539, 42.85158539, 42.85158539, ..., 67.45812988,\n",
       "           67.45812988, 67.45812988],\n",
       "          [42.85158539, 42.85158539, 42.85158539, ..., 67.45812988,\n",
       "           67.45812988, 67.45812988],\n",
       "          ...,\n",
       "          [43.79444122, 43.79444122, 43.79444122, ..., 21.45344353,\n",
       "           21.45344353, 21.45344353],\n",
       "          [43.79444122, 43.79444122, 43.79444122, ..., 21.45344353,\n",
       "           21.45344353, 21.45344353],\n",
       "          [43.79444122, 43.79444122, 43.79444122, ..., 21.45344353,\n",
       "           21.45344353, 21.45344353]]])}}"
      ]
     },
     "execution_count": 5,
     "metadata": {},
     "output_type": "execute_result"
    }
   ],
   "source": [
    "\n",
    "month_ranges = [[n for n in range(1,13)]]\n",
    "\n",
    "qmapper = QuantileMapper(month_ranges=month_ranges, latitude_range=latitude_range, longitude_range=longitude_range,\n",
    "                         num_lat_lon_chunks=20)\n",
    "\n",
    "# Get auto spaced quantiles, up to one data point per quantile\n",
    "ifs_quantile_locs = qmapper.update_quantile_locations(input_data=fcst_array, max_step_size=0.01)\n",
    "\n",
    "\n",
    "qmapper.train(fcst_data=ifs_train_data, obs_data=imerg_train_data, training_dates=training_dates, training_hours=training_hours)\n"
   ]
  },
  {
   "cell_type": "code",
   "execution_count": 6,
   "metadata": {},
   "outputs": [],
   "source": [
    "with open(os.path.join(log_folder, f'fcst_qmapper_20.pkl'), 'wb+') as ofh:\n",
    "    pickle.dump(qmapper, ofh)"
   ]
  },
  {
   "cell_type": "code",
   "execution_count": 6,
   "metadata": {},
   "outputs": [],
   "source": [
    "\n",
    "if args.debug:\n",
    "    imerg_train_data = imerg_train_data[:100,:,:]\n",
    "    ifs_train_data = ifs_train_data[:100,:,:]\n",
    "    training_dates = training_dates[:100]\n",
    "    training_hours = training_hours[:100]\n",
    "\n",
    "\n",
    "month_ranges = [[n for n in range(1,13)]]\n",
    "\n",
    "\n",
    "qmapper = QuantileMapper(month_ranges=month_ranges, latitude_range=latitude_range, longitude_range=longitude_range,\n",
    "                         num_lat_lon_chunks=3)\n",
    "\n",
    "# Get auto spaced quantiles, up to one data point per quantile\n",
    "ifs_quantile_locs = qmapper.update_quantile_locations(input_data=fcst_array, max_step_size=0.01)\n",
    "\n"
   ]
  },
  {
   "cell_type": "code",
   "execution_count": 67,
   "metadata": {},
   "outputs": [],
   "source": [
    "fcst_data = ifs_train_data.copy()\n",
    "obs_data = imerg_train_data.copy()\n",
    "\n",
    "qmapper.get_quantile_areas(training_dates=training_dates, training_hours=training_hours)\n",
    "qmapper.update_quantile_locations(fcst_data)\n",
    "\n",
    "qmapper.quantiles_by_area = {}\n",
    "for time_period, date_indexes in qmapper.quantile_date_groupings.items():\n",
    "    qmapper.quantiles_by_area[time_period] = {}\n",
    "        \n",
    "    fcst_q_cols = []\n",
    "    obs_q_cols = []\n",
    "    \n",
    "    # Note that the ordering of these for loops is crucial\n",
    "    # to make sure the \n",
    "    for m, lon_grouping in qmapper.quantile_longitude_groupings.items():\n",
    "        fcst_q_rows = []\n",
    "        obs_q_rows=[]\n",
    "\n",
    "        lon_index_range = lon_grouping['lon_index_range']\n",
    "\n",
    "        for n, lat_grouping in qmapper.quantile_latitude_groupings.items():\n",
    "                  \n",
    "            area_id = f'lat{n}_lon{m}'\n",
    "\n",
    "            lat_index_range = lat_grouping['lat_index_range']\n",
    "            \n",
    "            fcst_q_rows += [np.quantile(fcst_data[date_indexes, lat_index_range[0]:lat_index_range[1], lon_index_range[0]:lon_index_range[1]].flatten(), \n",
    "                                         qmapper.quantile_locs)] * (lat_index_range[1] - lat_index_range[0])\n",
    "            \n",
    "            obs_q_rows += [np.quantile(obs_data[date_indexes, lat_index_range[0]:lat_index_range[1], lon_index_range[0]:lon_index_range[1]].flatten(), \n",
    "                                         qmapper.quantile_locs)] * (lat_index_range[1] - lat_index_range[0])\n",
    "        fcst_q_cols += [np.vstack(fcst_q_rows).transpose()] * (lon_index_range[1] - lon_index_range[0]) \n",
    "        obs_q_cols += [np.vstack(obs_q_rows).transpose()] * (lon_index_range[1] - lon_index_range[0]) \n",
    "\n",
    "    qmapper.quantiles_by_area[time_period]['fcst_quantiles'] = np.dstack(fcst_q_cols)\n",
    "    qmapper.quantiles_by_area[time_period]['obs_quantiles'] = np.dstack(obs_q_cols)\n",
    "    "
   ]
  },
  {
   "cell_type": "code",
   "execution_count": 49,
   "metadata": {},
   "outputs": [],
   "source": [
    "fcst=fcst_array\n",
    "dates=dates\n",
    "hours =hours\n",
    "# Find indexes of dates in test set relative to the date chunks\n",
    "\n",
    "fcst = fcst.copy()\n",
    "\n",
    "if hours is not None:\n",
    "    date_hour_list = list(set(zip(dates,hours)))\n",
    "else:\n",
    "    date_hour_list = list(set(zip(dates,[0]*len(dates))))\n",
    "\n",
    "test_date_chunks =  {'_'.join([str(month_range[0]), str(month_range[-1])]): [item for item in date_hour_list if item[0].month in month_range] for month_range in qmapper.month_ranges}\n",
    "test_date_indexes = {k : [date_hour_list.index(item) for item in chunk] for k, chunk in test_date_chunks.items()}\n",
    "\n",
    "(_, lat_dim, lon_dim) = fcst.shape\n",
    "\n",
    "fcst_corrected = np.empty(fcst.shape)\n",
    "fcst_corrected[:,:,:] = np.nan\n",
    "area_centres = {f'lat{n}_lon{m}': np.array([qmapper.quantile_latitude_groupings[n]['lat_range_mean'], qmapper.quantile_longitude_groupings[m]['lon_range_mean']]) for n in range(qmapper.num_lat_lon_chunks) for m in range(qmapper.num_lat_lon_chunks)}\n"
   ]
  },
  {
   "cell_type": "code",
   "execution_count": 50,
   "metadata": {},
   "outputs": [],
   "source": [
    "date_index_name = '1_12'\n",
    "d_ix = test_date_indexes[date_index_name]"
   ]
  },
  {
   "cell_type": "code",
   "execution_count": 51,
   "metadata": {},
   "outputs": [],
   "source": [
    "quantiles_for_time_period = qmapper.quantiles_by_area[f't{date_index_name}']"
   ]
  },
  {
   "cell_type": "code",
   "execution_count": 59,
   "metadata": {},
   "outputs": [],
   "source": [
    "\n",
    "weighted_fcst_quantiles = np.empty([len(qmapper.quantile_locs)] + list(fcst.shape[1:]))\n",
    "weighted_fcst_quantiles[...] = np.nan\n",
    "\n",
    "weighted_obs_quantiles = np.empty([len(qmapper.quantile_locs)] + list(fcst.shape[1:]))\n",
    "weighted_obs_quantiles[...] = np.nan\n",
    "\n",
    "lon_chunk_size = list(qmapper.quantile_longitude_groupings.values())[0]['lon_index_range'][-1]\n",
    "lat_chunk_size = list(qmapper.quantile_latitude_groupings.values())[0]['lat_index_range'][-1]\n",
    "filter_size = np.mean([lon_chunk_size, lat_chunk_size])\n",
    "\n",
    "# filter_length =  \n",
    "for q_pos in range(len(qmapper.quantile_locs)):\n",
    "    \n",
    "    weighted_fcst_quantiles[q_pos, ...] = uniform_filter(quantiles_for_time_period['fcst_quantiles'][q_pos, ...], size=filter_size, mode='reflect')\n",
    "    weighted_obs_quantiles[q_pos, ...] = uniform_filter(quantiles_for_time_period['obs_quantiles'][q_pos, ...], size=filter_size, mode='reflect')\n",
    "\n"
   ]
  },
  {
   "cell_type": "code",
   "execution_count": 60,
   "metadata": {},
   "outputs": [
    {
     "data": {
      "text/plain": [
       "<cartopy.mpl.contour.GeoContourSet at 0x7f5a872ffe50>"
      ]
     },
     "execution_count": 60,
     "metadata": {},
     "output_type": "execute_result"
    },
    {
     "data": {
      "image/png": "[encoded data removed]",
      "text/plain": [
       "<Figure size 640x480 with 2 Axes>"
      ]
     },
     "metadata": {},
     "output_type": "display_data"
    }
   ],
   "source": [
    "from dsrnngan.evaluation.plots import get_geoaxes, plot_contourf\n",
    "fig, ax = get_geoaxes(1,2)\n",
    "\n",
    "plot_contourf(ax=ax[0], title='smoothed', data=weighted_obs_quantiles[-1, ...], lon_range=longitude_range,\n",
    "              lat_range=latitude_range)\n",
    "plot_contourf(ax=ax[1], title='smoothed', data=quantiles_for_time_period['obs_quantiles'][-1, ...], lon_range=longitude_range,\n",
    "              lat_range=latitude_range)"
   ]
  },
  {
   "cell_type": "code",
   "execution_count": 61,
   "metadata": {},
   "outputs": [],
   "source": [
    "\n",
    "for lat_index in range(lat_dim):\n",
    "    for lon_index in range(lon_dim):\n",
    "    \n",
    "        obs_quantiles, fcst_quantiles = weighted_fcst_quantiles[:,lat_index, lon_index], weighted_fcst_quantiles[:,lat_index, lon_index]\n",
    "\n",
    "        tmp_fcst_array = fcst[d_ix, lat_index, lon_index].copy()\n",
    "        \n",
    "        # Note that np.interp clips any values greater than max(fcst_quantiles)\n",
    "        tmp_fcst_array = np.interp(tmp_fcst_array, fcst_quantiles, obs_quantiles)\n",
    "\n",
    "        # Deal with zeros; assign random bin\n",
    "        ifs_zero_quantiles = [n for n, q in enumerate(fcst_quantiles) if q == 0.0]\n",
    "        if ifs_zero_quantiles:\n",
    "            zero_inds = np.argwhere(tmp_fcst_array == 0.0)\n",
    "            \n",
    "            if len(zero_inds) > 0:\n",
    "                tmp_fcst_array[zero_inds] = np.array(obs_quantiles)[np.random.choice(ifs_zero_quantiles, size=zero_inds.shape)]\n",
    "        \n",
    "        # Deal with values outside the training range\n",
    "        max_training_forecast_val = np.max(fcst_quantiles)\n",
    "        max_obs_forecast_val = np.max(obs_quantiles)\n",
    "        extreme_inds = np.argwhere(fcst[d_ix, lat_index, lon_index]  > max_training_forecast_val)\n",
    "        \n",
    "        if len(extreme_inds) > 0:\n",
    "            uplift = max_obs_forecast_val - max_training_forecast_val\n",
    "            tmp_fcst_array[extreme_inds] = fcst[d_ix, lat_index, lon_index][extreme_inds] + uplift\n",
    "        \n",
    "        fcst_corrected[d_ix,lat_index,lon_index] = tmp_fcst_array"
   ]
  },
  {
   "cell_type": "code",
   "execution_count": null,
   "metadata": {},
   "outputs": [],
   "source": [
    "quantile_data_dicts['test']['Fcst + qmap']['data'] = qmapper.get_quantile_mapped_forecast(fcst=fcst_array, dates=dates, hours=hours)"
   ]
  },
  {
   "cell_type": "code",
   "execution_count": null,
   "metadata": {},
   "outputs": [
    {
     "name": "stdout",
     "output_type": "stream",
     "text": [
      "## Quantile mapping for GAN\n"
     ]
    },
    {
     "ename": "OSError",
     "evalue": "[Errno 14] Bad address",
     "output_type": "error",
     "traceback": [
      "\u001b[0;31m---------------------------------------------------------------------------\u001b[0m",
      "\u001b[0;31mOSError\u001b[0m                                   Traceback (most recent call last)",
      "Cell \u001b[0;32mIn [7], line 17\u001b[0m\n\u001b[1;32m     15\u001b[0m \u001b[38;5;28;01mfor\u001b[39;00m fp \u001b[38;5;129;01min\u001b[39;00m fps:\n\u001b[1;32m     16\u001b[0m     \u001b[38;5;28;01mwith\u001b[39;00m \u001b[38;5;28mopen\u001b[39m(os\u001b[38;5;241m.\u001b[39mpath\u001b[38;5;241m.\u001b[39mjoin(fp, \u001b[38;5;124mf\u001b[39m\u001b[38;5;124m'\u001b[39m\u001b[38;5;124marrays-288000.pkl\u001b[39m\u001b[38;5;124m'\u001b[39m), \u001b[38;5;124m'\u001b[39m\u001b[38;5;124mrb\u001b[39m\u001b[38;5;124m'\u001b[39m) \u001b[38;5;28;01mas\u001b[39;00m ifh:\n\u001b[0;32m---> 17\u001b[0m         arrays \u001b[38;5;241m=\u001b[39m \u001b[43mpickle\u001b[49m\u001b[38;5;241;43m.\u001b[39;49m\u001b[43mload\u001b[49m\u001b[43m(\u001b[49m\u001b[43mifh\u001b[49m\u001b[43m)\u001b[49m\n\u001b[1;32m     19\u001b[0m     \u001b[38;5;28;01mif\u001b[39;00m args\u001b[38;5;241m.\u001b[39mdebug:\n\u001b[1;32m     20\u001b[0m         n_samples \u001b[38;5;241m=\u001b[39m \u001b[38;5;241m100\u001b[39m\n",
      "\u001b[0;31mOSError\u001b[0m: [Errno 14] Bad address"
     ]
    }
   ],
   "source": [
    "###########################\n",
    "print('## Quantile mapping for GAN', flush=True)\n",
    "###########################\n",
    "\n",
    "# NOTE:This requires data collection for the model \n",
    "\n",
    "fps = ['/user/work/uz22147/logs/cgan/5c577a485fbd1a72/n9000_201603-201702_e1', '/user/work/uz22147/logs/cgan/5c577a485fbd1a72/n9000_201703-201802_e1']\n",
    "\n",
    "imerg_training_data = []\n",
    "cgan_training_data = []\n",
    "training_dates = []\n",
    "training_hours = []\n",
    "\n",
    "\n",
    "for fp in fps:\n",
    "    with open(os.path.join(fp, f'arrays-288000.pkl'), 'rb') as ifh:\n",
    "        arrays = pickle.load(ifh)\n",
    "    \n",
    "    if args.debug:\n",
    "        n_samples = 100\n",
    "    else:\n",
    "        n_samples = arrays['truth'].shape[0]\n",
    "        \n",
    "    imerg_training_data.append(arrays['truth'][:n_samples,:,:])\n",
    "    cgan_training_data.append(arrays['samples_gen'][:n_samples,:,:,0])\n",
    "    training_dates += [d[0] for d in arrays['dates']][:n_samples]\n",
    "    training_hours += [h[0] for h in arrays['hours']][:n_samples]\n",
    "    \n",
    "imerg_training_data = np.concatenate(imerg_training_data, axis=0)\n",
    "cgan_training_data = np.concatenate(cgan_training_data, axis=0)\n",
    "\n",
    "qmapper = QuantileMapper(month_ranges=month_ranges, latitude_range=latitude_range, longitude_range=longitude_range,\n",
    "                         num_lat_lon_chunks=args.num_lat_lon_chunks)\n",
    "\n",
    "# Get auto spaced quantiles, up to one data point per quantile\n",
    "cgan_quantile_locs = qmapper.update_quantile_locations(input_data=fcst_array, max_step_size=0.01)\n",
    "\n",
    "\n",
    "if args.num_lat_lon_chunks == max(fcst_array.shape[1], fcst_array.shape[2]):\n",
    "    if args.save_data:\n",
    "        cgan_corrected = np.empty(samples_gen_array.shape)\n",
    "        \n",
    "        for en in range(ensemble_size):\n",
    "            cgan_corrected[:,:,:,en] =  quantile_map_grid(array_to_correct=samples_gen_array[:,:,:,en], \n",
    "                                                                                fcst_train_data=cgan_training_data, \n",
    "                                                                            obs_train_data=imerg_training_data, \n",
    "                                                                            quantiles=cgan_quantile_locs,\n",
    "                                                                            extrapolate='constant')\n",
    "        quantile_data_dicts['test']['GAN + qmap']['data'] = cgan_corrected[:,:,:,0]\n",
    "    else:\n",
    "        # Do quantile mapping grid cell by grid cell\n",
    "        quantile_data_dicts['test']['GAN + qmap']['data'] = quantile_map_grid(array_to_correct=samples_gen_array[:,:,:,0], \n",
    "                                                                                fcst_train_data=cgan_training_data, \n",
    "                                                                                obs_train_data=imerg_training_data, \n",
    "                                                                                quantiles=cgan_quantile_locs,\n",
    "                                                                            extrapolate='constant')\n",
    "\n",
    "else:\n",
    "     \n",
    "    qmapper.train(fcst_data=cgan_training_data, obs_data=imerg_training_data, training_dates=training_dates, training_hours=training_hours)\n",
    "\n",
    "    # Only correct all ensemble members if we are saving data; not needed if just plotting\n",
    "    cgan_corrected = np.empty(samples_gen_array.shape)\n",
    "\n",
    "    for en in tqdm(range(ensemble_size)):\n",
    "        cgan_corrected[:,:,:,en] = qmapper.get_quantile_mapped_forecast(fcst=samples_gen_array[:,:,:,en], dates=dates, hours=hours)\n",
    "        quantile_data_dicts['test']['GAN + qmap']['data'] = cgan_corrected[...,0]\n",
    "#     else:\n",
    "#         cgan_corrected = quantile_data_dicts['test']['GAN + qmap']['data'] = qmapper.get_quantile_mapped_forecast(fcst=samples_gen_array[:,:,:,0], dates=dates, hours=hours)\n",
    "#         quantile_data_dicts['test']['GAN + qmap']['data'] = cgan_corrected"
   ]
  },
  {
   "cell_type": "code",
   "execution_count": null,
   "metadata": {},
   "outputs": [],
   "source": [
    "plot_folder = '/user/home/uz22147/repos/downscaling-cgan/plots/quantile_map_plots'\n",
    "\n",
    "with open(os.path.join(plot_folder, f'qq_plot_test_n1_total.pkl'), 'rb') as ifh:\n",
    "    data = pickle.load(ifh)\n",
    "    quantile_results = data['quantile_results']\n",
    "    quantile_boundary_list = data['quantile_boundary_list']\n",
    "    interval_list = data['interval_list']\n",
    "    "
   ]
  },
  {
   "cell_type": "code",
   "execution_count": null,
   "metadata": {},
   "outputs": [],
   "source": [
    "from dsrnngan.evaluation.evaluation import get_fss_scores\n",
    "from dsrnngan.evaluation.plots import plot_fss_scores\n",
    "\n",
    "window_sizes = list(range(1,11)) + [20, 40, 60, 80, 100, 120, 150, 200]\n",
    "n_samples = truth_array.shape[0]\n",
    "\n",
    "fss_data_dict = {\n",
    "                    'cgan': samples_gen_array[:n_samples, :, :, 0],\n",
    "                    'ifs': fcst_array[:n_samples, :, :],\n",
    "                    'fcst_qmap': fcst_corrected[:n_samples, :, :],\n",
    "                    'cgan_qmap': cgan_corrected[:n_samples, :, :, 0]}\n",
    "\n",
    "# get quantiles\n",
    "quantile_locs = [0.5, 0.985, 0.999, 0.9999]\n",
    "hourly_thresholds = np.quantile(truth_array, quantile_locs)\n",
    "\n",
    "fss_results = get_fss_scores(truth_array, fss_data_dict, hourly_thresholds, window_sizes, n_samples)\n"
   ]
  },
  {
   "cell_type": "code",
   "execution_count": null,
   "metadata": {},
   "outputs": [],
   "source": [
    "month_ranges = [[n for n in range(1,13)]]\n",
    "\n",
    "\n",
    "qmapper = QuantileMapper(month_ranges=month_ranges, latitude_range=latitude_range, longitude_range=longitude_range,\n",
    "                         num_lat_lon_chunks=270)\n",
    "\n",
    "qmapper.train(fcst_data=ifs_train_data, obs_data=imerg_train_data, training_dates=training_dates, training_hours=training_hours)\n",
    "fcst_corrected = qmapper.get_quantile_mapped_forecast(fcst=fcst_array, dates=dates, hours=hours)\n"
   ]
  },
  {
   "cell_type": "code",
   "execution_count": null,
   "metadata": {},
   "outputs": [],
   "source": [
    "\n",
    "qmapper = QuantileMapper(month_ranges=[list(range(1,13))], latitude_range=latitude_range, longitude_range=longitude_range,\n",
    "                         num_lat_lon_chunks=15)\n",
    "\n",
    "    \n",
    "qmapper.train(fcst_data=cgan_training_data, obs_data=imerg_training_data, training_dates=training_dates, training_hours=training_hours)\n",
    "\n"
   ]
  },
  {
   "cell_type": "code",
   "execution_count": null,
   "metadata": {},
   "outputs": [],
   "source": [
    "# save quantile mapper\n",
    "with open('qmapper_cgan_15.pkl', 'wb+') as ifh:\n",
    "    pickle.dump(qmapper, ifh)"
   ]
  },
  {
   "cell_type": "code",
   "execution_count": null,
   "metadata": {},
   "outputs": [],
   "source": [
    "\n",
    "cgan_corrected = qmapper.get_quantile_mapped_forecast(fcst=samples_gen_array[:,:,:,0], dates=dates, hours=hours)"
   ]
  },
  {
   "cell_type": "code",
   "execution_count": null,
   "metadata": {},
   "outputs": [],
   "source": [
    "# TODO: try without the extreme uplift part\n",
    "qmapper = QuantileMapper(month_ranges=month_ranges, latitude_range=latitude_range, \n",
    "                         longitude_range=longitude_range,\n",
    "                         num_lat_lon_chunks=1)\n",
    "qmapper.train(fcst_data=ifs_train_data, obs_data=imerg_train_data, training_dates=training_dates, training_hours=training_hours)\n",
    "\n",
    "# Evaluate on training set\n",
    "fcst_corrected = qmapper.get_quantile_mapped_forecast(fcst=fcst_array, dates=dates, hours=hours)\n"
   ]
  },
  {
   "attachments": {},
   "cell_type": "markdown",
   "metadata": {},
   "source": [
    "## Assessing goodnes of fit for different parameters"
   ]
  },
  {
   "cell_type": "code",
   "execution_count": 46,
   "metadata": {},
   "outputs": [
    {
     "data": {
      "text/plain": [
       "Text(0, 0.5, 'Model (mm/hr)')"
      ]
     },
     "execution_count": 46,
     "metadata": {},
     "output_type": "execute_result"
    },
    {
     "data": {
      "image/png": "[encoded data removed]",
      "text/plain": [
       "<Figure size 640x480 with 1 Axes>"
      ]
     },
     "metadata": {},
     "output_type": "display_data"
    }
   ],
   "source": [
    "w=20\n",
    "plot_folder = '/user/home/uz22147/repos/downscaling-cgan/plots/quantile_map_plots'\n",
    "obs_key = 'Obs (IMERG)'\n",
    "\n",
    "fig, ax = plt.subplots(1,1)\n",
    "with open(os.path.join(plot_folder, f'qq_plot_test_n{w}_total.pkl'), 'rb') as ifh:\n",
    "    data = pickle.load(ifh)\n",
    "    quantile_results = data['quantile_results']\n",
    "    quantile_boundary_list = data['quantile_boundary_list']\n",
    "    interval_list = data['interval_list']\n",
    "    \n",
    "marker_handles = None\n",
    "max_truth_val = max(quantile_results[obs_key][max(list(quantile_results[obs_key].keys()))])\n",
    "\n",
    "format_lookup = {'GAN': {'color': 'b', 'marker': '+'}, \n",
    "                 'Fcst': {'color': 'r', 'marker': '+'},  \n",
    "                 'GAN + qmap': {'color': 'b', 'marker': '+'}, \n",
    "                 'Fcst + qmap': {'color': 'r', 'marker': '+'}}\n",
    "marker_hndl_list = []\n",
    "for data_name, res in quantile_results.items():\n",
    "    if 'qmap' in data_name:\n",
    "        for k in res:\n",
    "            if data_name != obs_key:\n",
    "                s = ax.scatter(quantile_results[obs_key][k], \n",
    "                                res[k], \n",
    "                                c=format_lookup[data_name]['color'],\n",
    "                                marker=format_lookup[data_name]['marker'],\n",
    "                                label=data_name)\n",
    "                \n",
    "            marker_hndl_list.append(s)\n",
    "            \n",
    "if not marker_handles:\n",
    "    marker_handles = marker_hndl_list\n",
    "    \n",
    "# ax.legend(handles=marker_handles, loc='center left')\n",
    "ax.plot(np.linspace(0, max_truth_val, 100), np.linspace(0, max_truth_val, 100), 'k--')\n",
    "ax.set_xlabel('Observations (mm/hr)')\n",
    "ax.set_ylabel('Model (mm/hr)')\n",
    "# ax.set_xscale('log')\n",
    "# ax.set_yscale('log')"
   ]
  },
  {
   "cell_type": "code",
   "execution_count": null,
   "metadata": {},
   "outputs": [],
   "source": [
    "# stitch together the GAN qmapped forecast\n",
    "with open(os.path.join('/user/home/uz22147/repos/downscaling-cgan/plots/quantile_map_plots', f'qq_plot_test_n10_total.pkl'), 'rb') as ifh:\n",
    "    data = pickle.load(ifh)\n",
    "    quantile_results = data['quantile_results']\n",
    "    quantile_boundary_list = data['quantile_boundary_list']\n",
    "    interval_list = data['interval_list']\n",
    "    \n"
   ]
  },
  {
   "cell_type": "code",
   "execution_count": 7,
   "metadata": {},
   "outputs": [],
   "source": [
    "from sklearn.metrics import mean_squared_error\n",
    "from itertools import chain\n",
    "plot_folder = '/user/home/uz22147/repos/downscaling-cgan/plots/quantile_map_plots'\n",
    "\n",
    "widths = [0, 1,2,3,4,5,10,15,20,25,30,35,40,45,50,270]\n",
    "weighted_mse = {k: {} for k in ['GAN', 'Fcst']}\n",
    "basic_mse = {k: {} for k in ['GAN', 'Fcst']}\n",
    "weighted_mse_high =  {k: {} for k in ['GAN', 'Fcst']}\n",
    "area = 'total'\n",
    "\n",
    "for w in widths:\n",
    "\n",
    "    with open(os.path.join(plot_folder, f'qq_plot_test_n{w}_{area}.pkl'), 'rb') as ifh:\n",
    "        data = pickle.load(ifh)\n",
    "        quantile_results = data['quantile_results']\n",
    "        quantile_boundary_list = data['quantile_boundary_list']\n",
    "        interval_list = data['interval_list']\n",
    "    cutoff_point = [n for n, item in enumerate(quantile_boundary_list['GAN']) if np.round(item[0],3) >= 0.9999][0]\n",
    "\n",
    "    raw_gan_results =  list(chain.from_iterable([list(item) for k, item in quantile_results['GAN'].items()]))\n",
    "    qmap_gan_results =  list(chain.from_iterable([list(item) for k, item in quantile_results['GAN + qmap'].items()]))\n",
    "    # blended_gan_results= list(chain.from_iterable([list(item) for k, item in quantile_results['GAN'].items() if k < cutoff_point]))\n",
    "    # blended_gan_results += list(chain.from_iterable([list(item) for k, item in quantile_results['GAN + qmap'].items() if k >= cutoff_point]))\n",
    "    all_obs = list(chain.from_iterable([item for item in quantile_results['Obs (IMERG)'].values()]))\n",
    "\n",
    "    # apply threshold of 2* max obs\n",
    "    # blended_gan_results = [min(item, 1.5*max(all_obs)) for item in blended_gan_results]\n",
    "    qmap_ifs_results = list(chain.from_iterable([list(item) for item in quantile_results['Fcst + qmap'].values()]))\n",
    "    \n",
    "    \n",
    "    weights = np.array(list(chain.from_iterable([ [interval_list['GAN'][n]]*(len(qb)) for n, qb in enumerate(quantile_boundary_list['GAN']) ])))\n",
    "    \n",
    "    weighted_mse['GAN'][w] = mean_squared_error(all_obs, qmap_gan_results, sample_weight=weights / weights.sum())\n",
    "    weighted_mse['Fcst'][w] = mean_squared_error(all_obs, qmap_ifs_results, sample_weight=weights/weights.sum())\n",
    "    \n",
    "    basic_mse['GAN'][w] = mean_squared_error(all_obs, qmap_gan_results, sample_weight=[1/len(weights)]*len(weights))\n",
    "    basic_mse['Fcst'][w] = mean_squared_error(all_obs, qmap_ifs_results, sample_weight=[1/len(weights)]*len(weights))\n",
    "        # all_obs = []\n",
    "        # all_fcst = []\n",
    "        # all_weights = []\n",
    "        \n",
    "        # all_high_obs = []\n",
    "        # all_high_fcst = []\n",
    "        # all_high_weights = []\n",
    "        # for k, q in quantile_results[model_type].items():\n",
    "            \n",
    "        #     obs = quantile_results['Obs (IMERG)'][k]\n",
    "\n",
    "        #     all_fcst += list(q)\n",
    "        #     all_obs += list(obs)\n",
    "        #     all_weights += [interval_list[model_type][k]]*len(q)\n",
    "            \n",
    "        #     if quantile_boundary_list['GAN'][k][0] <= 0.999:\n",
    "        #         all_high_fcst += list(q)\n",
    "        #         all_high_obs += list(obs)\n",
    "        #         all_high_weights += [interval_list[model_type][k]]*len(q)\n",
    "\n",
    "        # all_weights = np.array(all_weights) / np.sum(all_weights)\n",
    "            \n",
    "            \n",
    "        # weighted_mse[model_type][w] = mean_squared_error(all_obs, all_fcst, sample_weight=all_weights)\n"
   ]
  },
  {
   "cell_type": "code",
   "execution_count": 8,
   "metadata": {},
   "outputs": [
    {
     "data": {
      "image/png": "[encoded data removed]",
      "text/plain": [
       "<Figure size 640x480 with 2 Axes>"
      ]
     },
     "metadata": {},
     "output_type": "display_data"
    }
   ],
   "source": [
    "fig, ax = plt.subplots(2,1)\n",
    "\n",
    "for n, (model_type, mse_dict) in enumerate(basic_mse.items()):\n",
    "    vals = np.array(list(mse_dict.values()))\n",
    "    keys = list(mse_dict.keys())\n",
    "    ax[n].plot(vals, label=model_type, color='b')\n",
    "\n",
    "    \n",
    "    min_length = np.argmin(vals)\n",
    "    \n",
    "    ax[n].vlines(min_length, 0, max(vals))\n",
    "    ax[n].set_xticks(range(len(widths)))\n",
    "    ax[n].set_xticklabels(widths)\n",
    "    ax[n].set_title(model_type)\n"
   ]
  },
  {
   "cell_type": "code",
   "execution_count": null,
   "metadata": {},
   "outputs": [
    {
     "data": {
      "image/png": "[encoded data removed]",
      "text/plain": [
       "<Figure size 640x480 with 1 Axes>"
      ]
     },
     "metadata": {},
     "output_type": "display_data"
    }
   ],
   "source": [
    "fig, ax = plt.subplots(1,1)\n",
    "diff =  np.abs(np.array(raw_gan_results) - np.array(all_obs))\n",
    "ax.scatter(all_obs, diff)\n",
    "ax.set_xscale('log')\n",
    "ax.set_yscale('log')"
   ]
  },
  {
   "attachments": {},
   "cell_type": "markdown",
   "metadata": {},
   "source": [
    "## Resampling / bootstrapping"
   ]
  },
  {
   "cell_type": "code",
   "execution_count": null,
   "metadata": {},
   "outputs": [],
   "source": [
    "from dsrnngan.utils.utils import bootstrap_metric_function, bootstrap_summary_statistic, subsample_summary_statistic, resample_array"
   ]
  },
  {
   "cell_type": "code",
   "execution_count": null,
   "metadata": {},
   "outputs": [],
   "source": [
    "# calculate standard deviation and mean of\n",
    "quantile_locations = [np.round(1 - 10**(-n),n+1) for n in range(3, 9)]\n",
    "def calculate_quantiles(input_array, quantile_locations=quantile_locations):\n",
    "    \n",
    "    return np.quantile(input_array, quantile_locations)\n",
    "fcst_quantiles = calculate_quantiles(fcst_corrected)\n",
    "cgan_quantiles = calculate_quantiles(cgan_corrected)\n",
    "obs_quantiles = calculate_quantiles(truth_array)"
   ]
  },
  {
   "cell_type": "code",
   "execution_count": null,
   "metadata": {},
   "outputs": [],
   "source": [
    "# Notes: for resampling, could use the jackknife (i.e. leave-one-out subsampling) or bootstrapping, these are 2 commonly used methods.\n",
    "# jackknife apparently requires the quantity being estimated to be smooth, which \n",
    "# means it is not as appropriate for quantiles (read this in Wikipedia, other ref?)\n",
    "# Introduction to variance estimation by Kirk Wolter.\n",
    "# also The Jackknife and Bootstrap by Shao and Tu\n",
    "# But otherwise the two methods are supposed to be approximations of each other.\n",
    "# There are also methods like the Maritz-Jarrett method;\n",
    "# however standard Python implementations of this appeared to be much too slow for the data size we consider."
   ]
  },
  {
   "cell_type": "code",
   "execution_count": null,
   "metadata": {},
   "outputs": [],
   "source": [
    "n_subsamples = 5\n",
    "n_bootstrap_samples = 100\n",
    "\n",
    "bootstrap_results_dict_obs = bootstrap_summary_statistic(calculate_quantiles, truth_array[0::2, ...], n_bootstrap_samples=n_bootstrap_samples, time_resample=True)\n",
    "bootstrap_results_dict_fcst_qmap = bootstrap_summary_statistic(calculate_quantiles, fcst_corrected[0::2, ...], n_bootstrap_samples=n_bootstrap_samples, time_resample=True)\n",
    "bootstrap_results_dict_cgan_qmap = bootstrap_summary_statistic(calculate_quantiles, cgan_corrected[0::2, ...], n_bootstrap_samples=n_bootstrap_samples, time_resample=True)"
   ]
  },
  {
   "cell_type": "code",
   "execution_count": null,
   "metadata": {},
   "outputs": [],
   "source": [
    "from scipy.stats.mstats import mquantiles_cimj\n",
    "\n",
    "# conf_interval = mquantiles_cimj(fcst_array[0::4].flatten(), prob=quantile_locations, alpha=0.05)"
   ]
  },
  {
   "cell_type": "code",
   "execution_count": null,
   "metadata": {},
   "outputs": [],
   "source": [
    "quantile_annotation_dict = {q: np.quantile(truth_array, q) for q in quantile_locations}\n"
   ]
  },
  {
   "cell_type": "code",
   "execution_count": null,
   "metadata": {},
   "outputs": [],
   "source": [
    "fig, ax = plt.subplots(1,1)\n",
    "\n",
    "ax.errorbar(obs_quantiles, fcst_quantiles, yerr=2*bootstrap_results_dict_fcst_qmap['std'], xerr=2*bootstrap_results_dict_obs['std'], capsize=2)\n",
    "ax.plot(obs_quantiles, obs_quantiles, '--')\n",
    "ax.set_xlabel('Model (mm/hr)')\n",
    "# ax.set_xticks(obs_quantiles)\n",
    "# ax.set_xticklabels([f'$10^{{ {int(np.round(np.log10(1 -q),0))}}}$' for q in quantile_locations])\n",
    "\n",
    "ax.set_ylabel('Observations (mm/hr)')\n",
    "\n",
    "# ax.set_yticks(fcst_quantiles)\n",
    "# ax.set_yticklabels([f'$10^{{ {int(np.round(np.log10(1 -q),0))}}}$' for q in quantile_locations])\n",
    "\n",
    "plt.savefig('quantile_bootstrap_intervals_fcst_total.pdf', format='pdf')"
   ]
  },
  {
   "cell_type": "code",
   "execution_count": null,
   "metadata": {},
   "outputs": [],
   "source": [
    "fig, ax = plt.subplots(1,1)\n",
    "\n",
    "ax.errorbar(obs_quantiles, cgan_quantiles, yerr=2*bootstrap_results_dict_cgan_qmap['std'], xerr=2*bootstrap_results_dict_obs['std'], capsize=2)\n",
    "ax.plot(obs_quantiles, obs_quantiles, '--')\n",
    "ax.set_xlabel('Model (mm/hr)')\n",
    "# ax.set_xticks(obs_quantiles)\n",
    "# ax.set_xticklabels([f'$10^{{ {int(np.round(np.log10(1 -q),0))}}}$' for q in quantile_locations])\n",
    "\n",
    "ax.set_ylabel('Observations (mm/hr)')\n",
    "\n",
    "# ax.set_yticks(cgan_quantiles)\n",
    "# ax.set_yticklabels([f'$10^{{ {int(np.round(np.log10(1 -q),0))}}}$' for q in quantile_locations])\n",
    "plt.savefig('quantile_bootstrap_intervals_cgan_total.pdf', format='pdf')"
   ]
  },
  {
   "cell_type": "code",
   "execution_count": null,
   "metadata": {},
   "outputs": [],
   "source": [
    "# Same for all the areas\n",
    "quantile_locations =  [np.round(1 - 10**(-n),n+1) for n in range(1, 7)]\n",
    "n_cols = 2\n",
    "\n",
    "fig, ax = plt.subplots(int(np.round(len(special_areas)/2)),2, figsize=(2*3, int(np.round(len(special_areas)/2))*3))\n",
    "fig.tight_layout(pad=4)\n",
    "for n, (area, area_range) in enumerate(special_areas.items()):\n",
    "    row = int(n/2)\n",
    "    column = n %2\n",
    "    print(area)\n",
    "    lat_range = area_range['lat_index_range']\n",
    "    lon_range = area_range['lon_index_range']\n",
    "    \n",
    "    cgan_quantiles = calculate_quantiles(cgan_corrected[:,lat_range[0]:lat_range[1], lon_range[0]:lon_range[1]], quantile_locations=quantile_locations)\n",
    "    obs_quantiles = calculate_quantiles(truth_array[:,lat_range[0]:lat_range[1], lon_range[0]:lon_range[1]], quantile_locations=quantile_locations)\n",
    "\n",
    "    bootstrap_results_dict_obs = bootstrap_summary_statistic(lambda x: calculate_quantiles(x, quantile_locations), truth_array[0::2, lat_range[0]:lat_range[1], lon_range[0]:lon_range[1]], n_bootstrap_samples=n_bootstrap_samples, time_resample=True)\n",
    "    bootstrap_results_dict_cgan_qmap = bootstrap_summary_statistic(lambda x: calculate_quantiles(x, quantile_locations), cgan_corrected[0::2, lat_range[0]:lat_range[1], lon_range[0]:lon_range[1]], n_bootstrap_samples=n_bootstrap_samples, time_resample=True)\n",
    "    \n",
    "    ax[row, column].errorbar(obs_quantiles, cgan_quantiles, yerr=2*bootstrap_results_dict_cgan_qmap['std'], xerr=2*bootstrap_results_dict_obs['std'], capsize=2)\n",
    "    ax[row, column].plot(obs_quantiles, obs_quantiles, '--')\n",
    "    ax[row, column].set_xlabel('Observations (mm/hr)')\n",
    "#     ax[row, column].set_xticks(obs_quantiles)\n",
    "#     ax[row, column].set_xticklabels([f'$10^{{ {int(np.round(np.log10(1 -q),0))}}}$' for q in quantile_locations])\n",
    "\n",
    "    ax[row, column].set_ylabel('Model (mm/hr)')\n",
    "\n",
    "#     ax[row, column].set_yticks(cgan_quantiles)\n",
    "#     ax[row, column].set_yticklabels([f'$10^{{ {int(np.round(np.log10(1 -q),0))}}}$' for q in quantile_locations])\n",
    "    ax[row, column].set_title(area)\n",
    "fig.tight_layout(pad=2.0)\n",
    "plt.savefig('quantile_bootstrap_intervals_cgan_area.pdf', format='pdf')"
   ]
  },
  {
   "cell_type": "code",
   "execution_count": null,
   "metadata": {},
   "outputs": [],
   "source": [
    "# Same for all the areas\n",
    "quantile_locations =  [np.round(1 - 10**(-n),n+1) for n in range(1, 7)]\n",
    "n_cols = 2\n",
    "\n",
    "fig, ax = plt.subplots(int(np.round(len(special_areas)/2)),2, figsize=(2*3, int(np.round(len(special_areas)/2))*3))\n",
    "fig.tight_layout(pad=4)\n",
    "for n, (area, area_range) in enumerate(special_areas.items()):\n",
    "    row = int(n/2)\n",
    "    column = n %2\n",
    "    print(area)\n",
    "    lat_range = area_range['lat_index_range']\n",
    "    lon_range = area_range['lon_index_range']\n",
    "    \n",
    "    fcst_quantiles = calculate_quantiles(fcst_corrected[:,lat_range[0]:lat_range[1], lon_range[0]:lon_range[1]], quantile_locations=quantile_locations)\n",
    "    obs_quantiles = calculate_quantiles(truth_array[:,lat_range[0]:lat_range[1], lon_range[0]:lon_range[1]], quantile_locations=quantile_locations)\n",
    "\n",
    "    bootstrap_results_dict_obs = bootstrap_summary_statistic(lambda x: calculate_quantiles(x, quantile_locations), truth_array[0::2, lat_range[0]:lat_range[1], lon_range[0]:lon_range[1]], n_bootstrap_samples=n_bootstrap_samples, time_resample=True)\n",
    "    bootstrap_results_dict_fcst_qmap = bootstrap_summary_statistic(lambda x: calculate_quantiles(x, quantile_locations), fcst_corrected[0::2, lat_range[0]:lat_range[1], lon_range[0]:lon_range[1]], n_bootstrap_samples=n_bootstrap_samples, time_resample=True)\n",
    "    \n",
    "    ax[row, column].errorbar(obs_quantiles, fcst_quantiles, yerr=2*bootstrap_results_dict_fcst_qmap['std'], xerr=2*bootstrap_results_dict_obs['std'], capsize=2)\n",
    "    ax[row, column].plot(obs_quantiles, obs_quantiles, '--')\n",
    "    ax[row, column].set_xlabel('Observations (mm/hr)')\n",
    "#     ax[row, column].set_xticks(obs_quantiles)\n",
    "#     ax[row, column].set_xticklabels([f'$10^{{ {int(np.round(np.log10(1 -q),0))}}}$' for q in quantile_locations])\n",
    "\n",
    "    ax[row, column].set_ylabel('Model (mm/hr)')\n",
    "\n",
    "#     ax[row, column].set_yticks(cgan_quantiles)\n",
    "#     ax[row, column].set_yticklabels([f'$10^{{ {int(np.round(np.log10(1 -q),0))}}}$' for q in quantile_locations])\n",
    "    ax[row, column].set_title(area)\n",
    "fig.tight_layout(pad=2.0)\n",
    "plt.savefig('quantile_bootstrap_intervals_fcst_area.pdf', format='pdf')"
   ]
  },
  {
   "cell_type": "code",
   "execution_count": null,
   "metadata": {},
   "outputs": [],
   "source": [
    "# bootstrap FSS\n",
    "from dsrnngan.evaluation.scoring import rmse, mse, mae, calculate_pearsonr, fss\n",
    "\n",
    "kwargs = {'scale': 10, 'thr': 1, 'mode': 'constant'}\n",
    "\n",
    "output_dict = bootstrap_metric_function(fss, fcst_array=fcst_array[0::2, ...], obs_array=truth_array[0::2, ...], time_resample=True, n_bootstrap_samples=2, **kwargs)\n"
   ]
  },
  {
   "cell_type": "code",
   "execution_count": null,
   "metadata": {},
   "outputs": [],
   "source": [
    "quantile_data_dict = {'Fcst': {'data': fcst_array, 'color': 'r', 'marker': '+', 'alpha': 1},\n",
    "                                   'Obs (IMERG)': {'data': truth_array, 'color': 'k'},\n",
    "                                   'Fcst + qmap': {'data': fcst_corrected, 'color': 'r', 'marker': 'o', 'alpha': 0.7}}"
   ]
  },
  {
   "cell_type": "code",
   "execution_count": null,
   "metadata": {},
   "outputs": [],
   "source": [
    "plot_quantiles(quantile_data_dict)"
   ]
  },
  {
   "cell_type": "code",
   "execution_count": null,
   "metadata": {},
   "outputs": [],
   "source": [
    "plot_quantiles(quantile_data_dict, min_data_points_per_quantile=10)"
   ]
  },
  {
   "cell_type": "code",
   "execution_count": null,
   "metadata": {},
   "outputs": [],
   "source": [
    "# plot the quantiles_against"
   ]
  },
  {
   "cell_type": "code",
   "execution_count": null,
   "metadata": {},
   "outputs": [],
   "source": [
    "for n in range(len(values_to_investigate[0])):\n",
    "    d_ix = values_to_investigate[0][n]\n",
    "    lat_index = values_to_investigate[1][n]\n",
    "    lon_index = values_to_investigate[2][n]\n",
    "\n",
    "    date_group_name, lat_group_num, lon_group_num = qmapper.get_group_names(date_index=d_ix, lat_index=lat_index, lon_index=lon_index)\n",
    "    \n",
    "    print(date_group_name, lat_group_num, lon_group_num)"
   ]
  },
  {
   "cell_type": "code",
   "execution_count": null,
   "metadata": {},
   "outputs": [],
   "source": [
    "values_to_investigate"
   ]
  },
  {
   "cell_type": "code",
   "execution_count": null,
   "metadata": {},
   "outputs": [],
   "source": [
    "values_to_investigate = np.where(fcst_corrected > 120)"
   ]
  },
  {
   "cell_type": "code",
   "execution_count": null,
   "metadata": {},
   "outputs": [],
   "source": [
    "\n",
    "d_ix = values_to_investigate[0][0]\n",
    "lat_index = values_to_investigate[1][0]\n",
    "lon_index = values_to_investigate[2][0]\n",
    "\n",
    "date_group_name, lat_group_num, lon_group_num = qmapper.get_group_names(date_index=d_ix, lat_index=lat_index, lon_index=lon_index)\n",
    "\n",
    "q = qmapper.quantiles_by_area[date_group_name][f'lat{lat_group_num}_lon{lon_group_num}']\n",
    "fcst_quantiles = q['fcst_quantiles']\n",
    "obs_quantiles = q['obs_quantiles']\n",
    "\n",
    "tmp_fcst_array = fcst_array[d_ix:d_ix+1, lat_index, lon_index].copy()\n",
    "tmp_fcst_array = np.interp(tmp_fcst_array, fcst_quantiles, obs_quantiles)\n",
    "\n",
    "# Deal with zeros; assign random bin\n",
    "ifs_zero_quantiles = [n for n, q in enumerate(fcst_quantiles) if q == 0.0]\n",
    "if ifs_zero_quantiles:\n",
    "    zero_inds = np.argwhere(tmp_fcst_array == 0.0)\n",
    "    \n",
    "    if len(zero_inds) > 0:\n",
    "        tmp_fcst_array[zero_inds] = np.array(obs_quantiles)[np.random.choice(ifs_zero_quantiles, size=zero_inds.shape)]\n",
    "\n",
    "# # # Deal with values outside the training range\n",
    "max_training_forecast_val = np.max(fcst_quantiles)\n",
    "max_obs_forecast_val = np.max(obs_quantiles)\n",
    "extreme_inds = np.argwhere(fcst_array[d_ix:d_ix+1, lat_index, lon_index] > max_training_forecast_val)\n",
    "\n",
    "if len(extreme_inds) > 0:\n",
    "    uplift = max_obs_forecast_val - max_training_forecast_val\n",
    "    tmp_fcst_array[extreme_inds] = tmp_fcst_array[extreme_inds] + uplift\n",
    "\n",
    "# fcst_corrected[d_ix,lat_index,lon_index] = tmp_fcst_array"
   ]
  },
  {
   "cell_type": "code",
   "execution_count": null,
   "metadata": {},
   "outputs": [],
   "source": [
    "q = qmapper.quantiles_by_area['t1_12'][f'lat0_lon1']\n",
    "plt.scatter(q['obs_quantiles'], q['fcst_quantiles'])\n",
    "plt.plot(q['obs_quantiles'], q['obs_quantiles'])"
   ]
  },
  {
   "cell_type": "code",
   "execution_count": null,
   "metadata": {},
   "outputs": [],
   "source": [
    "plt.scatter(np.quantile(imerg_train_data, quantile_locs), np.quantile(fcst_corrected_train, quantile_locs))\n",
    "plt.plot(np.quantile(imerg_train_data, quantile_locs), np.quantile(imerg_train_data, quantile_locs), '--')"
   ]
  },
  {
   "cell_type": "code",
   "execution_count": null,
   "metadata": {},
   "outputs": [],
   "source": [
    "# Get subset that this occurs for"
   ]
  },
  {
   "cell_type": "code",
   "execution_count": null,
   "metadata": {},
   "outputs": [],
   "source": [
    "area_dict = special_areas['nairobi']\n",
    "\n",
    "lat_range = area_dict['lat_index_range']\n",
    "lon_range = area_dict['lon_index_range']\n",
    "\n",
    "ifs_train_subset = ifs_train_data[:, lat_range[0]:lat_range[1], lon_range[0]:lon_range[1]].copy()\n",
    "imerg_train_subset = imerg_train_data[:, lat_range[0]:lat_range[1], lon_range[0]:lon_range[1]].copy()\n",
    "lat_range_subset = latitude_range[lat_range[0]:lat_range[1]].copy()\n",
    "lon_range_subset = latitude_range[lon_range[0]:lon_range[1]].copy()\n",
    "\n",
    "fcst_array_subset = fcst_array[:, lat_range[0]:lat_range[1], lon_range[0]:lon_range[1]].copy()\n",
    "truth_array_subset = truth_array[:, lat_range[0]:lat_range[1], lon_range[0]:lon_range[1]].copy()"
   ]
  },
  {
   "cell_type": "code",
   "execution_count": null,
   "metadata": {},
   "outputs": [],
   "source": [
    "# TODO: try without the extreme uplift part\n",
    "qmapper = QuantileMapper(month_ranges=month_ranges, latitude_range=lat_range_subset, longitude_range=lon_range_subset, \n",
    "                         quantile_locs=quantile_locs,\n",
    "                         num_lat_lon_chunks=1, min_data_points_per_quantile=10)\n",
    "qmapper.train(fcst_data=ifs_train_subset, obs_data=imerg_train_subset,\n",
    "              training_dates=training_dates, training_hours=training_hours)\n",
    "\n",
    "# Evaluate on training set\n",
    "fcst_corrected_subset = qmapper.get_quantile_mapped_forecast(fcst=fcst_array_subset, \n",
    "                                                                   dates=dates, hours=hours)"
   ]
  },
  {
   "cell_type": "code",
   "execution_count": null,
   "metadata": {},
   "outputs": [],
   "source": [
    "plt.scatter(np.quantile(truth_array_subset, quantile_locs), np.quantile(fcst_corrected_subset, quantile_locs))\n",
    "# plt.scatter(np.quantile(imerg_train_subset, quantile_locs), np.quantile(ifs_train_subset, quantile_locs))\n",
    "plt.plot(np.quantile(truth_array_subset, quantile_locs), np.quantile(truth_array_subset, quantile_locs), '--')"
   ]
  },
  {
   "cell_type": "code",
   "execution_count": null,
   "metadata": {},
   "outputs": [],
   "source": [
    "lat_index = 11\n",
    "lon_index = 184\n",
    "d_ix = 382\n",
    "fcst_quantiles = q['fcst_quantiles']\n",
    "obs_quantiles = q['obs_quantiles']\n",
    "\n",
    "tmp_fcst_array = ifs_train_subset[d_ix:d_ix+1, lat_index, lon_index].copy()\n",
    "tmp_fcst_array = np.interp(tmp_fcst_array, fcst_quantiles, obs_quantiles)\n",
    "\n",
    "# Deal with zeros; assign random bin\n",
    "ifs_zero_quantiles = [n for n, q in enumerate(fcst_quantiles) if q == 0.0]\n",
    "if ifs_zero_quantiles:\n",
    "    zero_inds = np.argwhere(tmp_fcst_array == 0.0)\n",
    "    \n",
    "    if len(zero_inds) > 0:\n",
    "        tmp_fcst_array[zero_inds] = np.array(obs_quantiles)[np.random.choice(ifs_zero_quantiles, size=zero_inds.shape)]\n",
    "\n",
    "# # # Deal with values outside the training range\n",
    "max_training_forecast_val = np.max(fcst_quantiles)\n",
    "max_obs_forecast_val = np.max(obs_quantiles)\n",
    "extreme_inds = np.argwhere(ifs_train_subset[d_ix:d_ix+1, lat_index, lon_index] > max_training_forecast_val)\n",
    "\n",
    "if len(extreme_inds) > 0:\n",
    "    uplift = max_obs_forecast_val - max_training_forecast_val\n",
    "    tmp_fcst_array[extreme_inds] = tmp_fcst_array[extreme_inds] + uplift\n",
    "\n",
    "# fcst_corrected[d_ix,lat_index,lon_index] = tmp_fcst_array"
   ]
  },
  {
   "cell_type": "code",
   "execution_count": null,
   "metadata": {},
   "outputs": [],
   "source": [
    "max_training_forecast_val = np.max(q['fcst_quantiles'])\n",
    "max_obs_forecast_val = np.max(q['obs_quantiles'])\n",
    "extreme_inds = np.argwhere(tmp >= max_training_forecast_val)"
   ]
  },
  {
   "cell_type": "code",
   "execution_count": null,
   "metadata": {},
   "outputs": [],
   "source": [
    "# Calculate number of data points per quantile\n",
    "quantile_spacing = (100 - 99.99999)/100\n",
    "n_data_points = imerg_train_data.size\n",
    "n_data_points*quantile_spacing"
   ]
  },
  {
   "cell_type": "code",
   "execution_count": null,
   "metadata": {},
   "outputs": [],
   "source": [
    "# Determine which quantile area the lat lon value is in\n",
    "\n",
    "lat_value = 75\n",
    "lon_value = 137\n",
    "\n",
    "print([(k, v['lat_index_range']) for k, v in qmapper.quantile_areas['t1_12'].items() if lat_value in range(v['lat_index_range'][0], v['lat_index_range'][1])])\n",
    "print([(k, v['lon_index_range']) for k, v in qmapper.quantile_areas['t1_12'].items() if lon_value in range(v['lon_index_range'][0], v['lon_index_range'][1])])"
   ]
  },
  {
   "cell_type": "code",
   "execution_count": null,
   "metadata": {},
   "outputs": [],
   "source": [
    "quantile_spacing = (100 - 99.99999)/100\n",
    "\n",
    "quantile_spacing*imerg_train_data[:, 0:134, 132:263].size"
   ]
  },
  {
   "cell_type": "code",
   "execution_count": null,
   "metadata": {},
   "outputs": [],
   "source": [
    "qmapper.quantiles_by_area['t1_12']['lat0_lon1']['obs_quantiles'][-1]"
   ]
  },
  {
   "cell_type": "code",
   "execution_count": null,
   "metadata": {},
   "outputs": [],
   "source": [
    "from itertools import chain\n",
    "\n",
    "(q_99pt9, q_99pt99, q_99pt999, q_99pt9999) = np.quantile(truth_array, [0.999, 0.9999, 0.99999, 0.999999])\n",
    "\n",
    "plt.rcParams.update({'font.size': 20})\n",
    "fig, ax = plt.subplots(1,1, figsize=(10,10))\n",
    "fig.tight_layout(pad=4)\n",
    "bin_boundaries=np.arange(0,300,4)\n",
    "\n",
    "data_dict = {'IMERG': {'data': truth_array, 'histtype': 'stepfilled', 'alpha':0.6, 'facecolor': 'grey'}, \n",
    "             'cGAN corrected': {'data': fcst_corrected, 'histtype': 'step', 'edgecolor': 'blue', 'linestyle': '--'},\n",
    "             'cGAN sample': {'data': samples_gen_array[:,:,:,0], 'histtype': 'step', 'edgecolor': 'blue'}}\n",
    "rainfall_amounts = {}\n",
    "\n",
    "for n, (name, d) in enumerate(data_dict.items()):\n",
    "    \n",
    "    ax.hist(d['data'].flatten(), bins=bin_boundaries, histtype=d['histtype'], label=name, alpha=d.get('alpha'),\n",
    "                facecolor=d.get('facecolor'), edgecolor=d.get('edgecolor'), linestyle= d.get('linestyle'))\n",
    "\n",
    "\n",
    "ax.set_yscale('log')\n",
    "ax.legend(loc='center right')\n",
    "ax.set_xlabel('Average hourly rainfall in bin (mm/hr)')\n",
    "ax.set_ylabel('Count')\n",
    "ax.set_xlim(0, 150)\n",
    "# ax.vlines(q_99pt9, 0, 10**8, linestyles='--')\n",
    "# ax.text(q_99pt9 - 5, 10**8 - 20, '$99.9^{th}$')\n",
    "\n",
    "ax.vlines(q_99pt99, 0, 10**8, linestyles='--')\n",
    "ax.text(q_99pt99 + 2 , 10**8, '$99.99^{th}$')\n",
    "ax.vlines(q_99pt999, 0, 10**8, linestyles='--')\n",
    "ax.text(q_99pt999 + 2 , 10**7, '$99.999^{th}$')\n",
    "ax.vlines(q_99pt9999, 0, 10**8, linestyles='--')\n",
    "ax.text(q_99pt9999 + 2 , 10**8, '$99.9999^{th}$')\n",
    "\n",
    "plt.savefig(f'quantile_mapping/histogram_cgan_qmap.pdf', format='pdf')"
   ]
  },
  {
   "attachments": {},
   "cell_type": "markdown",
   "metadata": {},
   "source": [
    "## Data collection"
   ]
  },
  {
   "cell_type": "code",
   "execution_count": null,
   "metadata": {},
   "outputs": [],
   "source": [
    "from dsrnngan.data import denormalise\n",
    "\n",
    "with open('/user/home/uz22147/repos/downscaling-cgan/201603_201803_2000_arrays.pkl', 'rb') as ifh:\n",
    "    training_data = pickle.load(ifh)\n",
    "    \n",
    "imerg_train_data = denormalise(training_data['obs'])\n",
    "ifs_train_data = denormalise(training_data['fcst_array'])\n",
    "\n",
    "training_dates = [item[0] for item in training_data['dates']]\n",
    "training_hours = [item[0] for item in training_data['hours']]"
   ]
  },
  {
   "cell_type": "code",
   "execution_count": null,
   "metadata": {},
   "outputs": [],
   "source": [
    "# split into train and validation\n",
    "\n",
    "from sklearn.model_selection import StratifiedKFold\n",
    "\n",
    "X = ifs_train_data.copy().reshape(ifs_train_data.shape[0], -1)\n",
    "y = imerg_train_data.reshape(ifs_train_data.shape[0], -1)\n",
    "months = [d.month for d in training_dates]\n",
    "\n",
    "skf = StratifiedKFold(n_splits=10, shuffle=True)\n",
    "skf.get_n_splits(X, months)\n",
    "\n",
    "(train_index, val_index) = skf.split(X, months).__next__()\n",
    "\n",
    "ifs_quantile_training_data = ifs_train_data[train_index, :, :]\n",
    "imerg_quantile_training_data = imerg_train_data[train_index, :, :]\n",
    "\n",
    "ifs_quantile_val_data = ifs_train_data[val_index, :, :]\n",
    "imerg_quantile_val_data = imerg_train_data[val_index, :, :]\n",
    "\n",
    "quantile_training_dates = np.array(training_dates)[train_index]\n",
    "quantile_val_dates = np.array(training_dates)[val_index]\n",
    "quantile_training_hours = np.array(training_hours)[train_index]\n",
    "quantile_val_hours = np.array(training_hours)[val_index]"
   ]
  },
  {
   "cell_type": "code",
   "execution_count": null,
   "metadata": {},
   "outputs": [],
   "source": [
    "import xarray as xr\n",
    "\n",
    "all_imerg_data = []\n",
    "all_ifs_data = []\n",
    "\n",
    "for year in tqdm(range(2003, 2018)):\n",
    "    for month in range(1,13):\n",
    "\n",
    "        imerg_ds = xr.open_dataarray(f'/user/home/uz22147/repos/rainfall_data/daily_imerg_rainfall_{month}_{year}.nc')\n",
    "\n",
    "        imerg_data = imerg_ds.sel(lat=latitude_range, method='nearest').sel(lon=longitude_range, method='nearest').values\n",
    "\n",
    "        for t in range(imerg_data.shape[0]):\n",
    "            \n",
    "            snapshot = imerg_data[t, :, :]\n",
    "            \n",
    "            all_imerg_data.append(snapshot)\n",
    "            \n",
    "all_imerg_data = np.stack(all_imerg_data, axis = 0)\n",
    "\n",
    "daily_historical_avg = np.mean(all_imerg_data, axis=0)\n",
    "daily_historical_std = np.std(all_imerg_data, axis=0)\n",
    "\n",
    "hourly_historical_avg = daily_historical_avg / 24\n",
    "hourly_historical_std = daily_historical_std / 24"
   ]
  },
  {
   "attachments": {},
   "cell_type": "markdown",
   "metadata": {},
   "source": [
    "## Quantile mapping by pixel"
   ]
  },
  {
   "cell_type": "code",
   "execution_count": null,
   "metadata": {},
   "outputs": [],
   "source": [
    "# quantile mapping by month, pixel-by-pixel\n",
    "\n",
    "month_ranges = [[1,2], [3,4,5], [6,7,8,9], [10,11,12]]\n",
    "\n",
    "date_hour_list = list(zip(quantile_training_dates, quantile_training_hours))\n",
    "date_hour_list_val = list(zip(quantile_val_dates, quantile_val_hours))\n",
    "\n",
    "date_chunks =  {'_'.join([str(month_range[0]), str(month_range[-1])]): [item for item in date_hour_list if item[0].month in month_range] for month_range in month_ranges}\n",
    "date_indexes =  {k : [date_hour_list.index(item) for item in chunk] for k, chunk in date_chunks.items()}\n",
    "\n",
    "date_chunks_val =  {'_'.join([str(month_range[0]), str(month_range[-1])]): [item for item in date_hour_list_val if item[0].month in month_range] for month_range in month_ranges}\n",
    "date_indexes_val =  {k : [date_hour_list_val.index(item) for item in chunk] for k, chunk in date_chunks_val.items()}\n",
    "\n",
    "quantiles_by_month_range = {}\n",
    "\n",
    "fcst_corrected_single_pixel = np.empty(ifs_quantile_val_data.shape)\n",
    "fcst_corrected_single_pixel[:,:,:] = np.nan\n",
    "\n",
    "for t_name, d in tqdm(date_indexes.items(), total=len(month_ranges)):\n",
    "    fcst = ifs_quantile_training_data[d, :, :]\n",
    "    obs = imerg_quantile_training_data[d, :, :]\n",
    "    \n",
    "    quantiles_by_month_range[t_name] = {'fcst': np.quantile(fcst, quantile_locs, axis=0), 'obs': np.quantile(obs,  quantile_locs, axis=0)}\n",
    "    \n",
    "    # Correct the forecast in the validation set using these quantiles\n",
    "    d_val = date_indexes_val[t_name]\n",
    "    fcst_val = ifs_quantile_val_data[d_val, :, :]\n",
    "    obs_val = imerg_quantile_val_data[d_val, :, :]\n",
    "    \n",
    "    (n_val_samples, x_vals, y_vals) = fcst_val.shape\n",
    "    \n",
    "    for x in range(x_vals):\n",
    "        for y in range(y_vals):\n",
    "            fcst_corrected_single_pixel[d_val, x, y] = np.interp(fcst_val[:, x, y], \n",
    "                                                                 quantiles_by_month_range[t_name]['fcst'][:, x, y], \n",
    "                                                                 quantiles_by_month_range[t_name]['obs'][:, x, y])"
   ]
  },
  {
   "cell_type": "code",
   "execution_count": null,
   "metadata": {},
   "outputs": [],
   "source": [
    "# Analyse difference in quantiles between training set and 2018 / 2019 dat\n",
    "\n",
    "ifs_training_quantiles = np.quantile(ifs_train_data.flatten(), quantile_locs)\n",
    "imerg_training_quantiles = np.quantile(imerg_train_data.flatten(), quantile_locs)\n",
    "\n",
    "ifs_test_quantiles = np.quantile(fcst_array.flatten(), quantile_locs)\n",
    "imerg_test_quantiles = np.quantile(truth_array.flatten(), quantile_locs)"
   ]
  },
  {
   "cell_type": "code",
   "execution_count": null,
   "metadata": {},
   "outputs": [],
   "source": [
    "plt.plot(imerg_test_quantiles, ifs_test_quantiles)\n",
    "plt.plot(imerg_test_quantiles, imerg_test_quantiles, 'o--')\n",
    "\n",
    "plt.plot(imerg_training_quantiles, ifs_training_quantiles)\n",
    "\n",
    "plt.plot(imerg_test_quantiles, np.interp(ifs_test_quantiles, ifs_training_quantiles, imerg_training_quantiles))"
   ]
  },
  {
   "cell_type": "code",
   "execution_count": null,
   "metadata": {},
   "outputs": [],
   "source": [
    "from dsrnngan.benchmarks import get_quantile_areas, get_quantiles_by_area, get_quantile_mapped_forecast\n",
    "\n",
    "month_ranges = [[1,2], [3,4,5], [6,7,8,9], [10,11,12]]\n",
    "quantile_threshold = 0.999"
   ]
  },
  {
   "attachments": {},
   "cell_type": "markdown",
   "metadata": {},
   "source": [
    "## Cross validation results"
   ]
  },
  {
   "cell_type": "code",
   "execution_count": null,
   "metadata": {},
   "outputs": [],
   "source": [
    "# Load in cross-validation results\n",
    "import pickle\n",
    "\n",
    "\n",
    "n_cvs = 10\n",
    "corrected_fcst_dicts = {}\n",
    "quantiles_by_area_dicts = {}\n",
    "imerg_val_data = {}\n",
    "\n",
    "for n in range(n_cvs):\n",
    "    with open(f'tmp/corrected_fcst_dict_{n}.pkl', 'rb') as ifh:\n",
    "        corrected_fcst_dicts[n] = pickle.load(ifh)\n",
    "        \n",
    "    with open(f'tmp/quantiles_by_area_dict_{n}.pkl', 'rb') as ifh:\n",
    "        quantiles_by_area_dicts[n] = pickle.load(ifh)\n",
    "\n",
    "    with open(f'tmp/imerg_quantile_val_data_{n}.pkl', 'rb') as ifh:\n",
    "        imerg_val_data[n] = pickle.load(ifh)"
   ]
  },
  {
   "cell_type": "code",
   "execution_count": null,
   "metadata": {},
   "outputs": [],
   "source": [
    "# Get averages over CV results\n",
    "corrected_fcst_mae = {}\n",
    "\n",
    "for k in tqdm(corrected_fcst_dicts[0].keys()):\n",
    "    \n",
    "    all_cv_fcsts = np.stack([corrected_fcst_dicts[n][k] for n in corrected_fcst_dicts.keys()])\n",
    "    cv_val_data = np.stack(list(imerg_val_data.values()))\n",
    "\n",
    "    corrected_fcst_mae[k] = np.mean(np.abs(all_cv_fcsts - cv_val_data), axis=(0,1))"
   ]
  },
  {
   "cell_type": "code",
   "execution_count": null,
   "metadata": {},
   "outputs": [],
   "source": [
    "# Plot MAE for the forecasted regions\n",
    "\n",
    "n_cols = 3\n",
    "fig, ax = plt.subplots(int(len(corrected_fcst_mae.keys())/n_cols) + 1,n_cols, \n",
    "                       subplot_kw={'projection' : ccrs.PlateCarree()},\n",
    "                       figsize=(20,20))\n",
    "\n",
    "\n",
    "max_level = 10\n",
    "value_range = list(np.arange(0, max_level, max_level / 50))\n",
    "\n",
    "total_mae_vals = []\n",
    "for n, (k, v) in enumerate(corrected_fcst_mae.items()):\n",
    "    \n",
    "    row = int(n/n_cols)\n",
    "    col = n - n_cols*row\n",
    "\n",
    "    mae = v\n",
    "    total_mae = np.nanmean(v)\n",
    "    total_mae_vals.append(total_mae)\n",
    "    # value_range=value_range, \n",
    "    im = plot_contourf(ax[row, col], mae[:-1,:-1] / hourly_historical_avg, \n",
    "                       title=k, lat_range=latitude_range, lon_range=longitude_range,  value_range=value_range)\n",
    "    plt.colorbar(im, ax=ax[row, col])\n",
    "    \n",
    "    if k == 'single_pixel':\n",
    "        title=f'No spatial aggregation: total mae = {total_mae:0.4f}'\n",
    "    else:\n",
    "        title=f'{k} spatial regions: total mae = {total_mae:0.4f}'\n",
    "    ax[row, col].set_title(title)\n"
   ]
  },
  {
   "cell_type": "code",
   "execution_count": null,
   "metadata": {},
   "outputs": [],
   "source": [
    "from scipy.stats import gamma\n",
    "(q_99pt9, q_99pt99) = np.quantile(truth_array, [0.999, 0.9999])\n",
    "fitting_data = np.random.choice(truth_array.flatten(), size=int(4e6), replace=False)\n",
    "\n",
    "truth_above_99pt99 = truth_array[np.where(truth_array >= q_99pt99)]\n",
    "# fit_alpha, fit_loc, fit_beta=gamma.fit(fitting_data)"
   ]
  },
  {
   "attachments": {},
   "cell_type": "markdown",
   "metadata": {},
   "source": [
    "## Fit parametric distribution"
   ]
  },
  {
   "cell_type": "code",
   "execution_count": null,
   "metadata": {},
   "outputs": [],
   "source": [
    "import random\n",
    "\n",
    "# Fitting using moments; perhaps would be better using mse distance but it is super slow\n",
    "def get_gamma_parameters(data):\n",
    "    mean = np.mean(data)\n",
    "    variance = np.var(data)\n",
    "    \n",
    "    shape = mean*mean/variance\n",
    "    scale = variance/mean\n",
    "    \n",
    "    return shape, scale\n",
    "\n",
    "def get_lognormal_parameters(data):\n",
    "    \n",
    "    e_x = np.mean(data)\n",
    "    var_x = np.var(data)\n",
    "    \n",
    "    var = np.log(1 + var_x / e_x**2)\n",
    "    mu = np.log( e_x * np.exp(-0.5*var))\n",
    "    \n",
    "    return mu, var\n",
    "\n",
    "# force integer values to get integer sample\n",
    "shape, scale = get_gamma_parameters(truth_array)\n",
    "gamma_sample_data = np.random.gamma(shape=shape, scale=scale, size=truth_array.size)\n",
    "\n",
    "lognormal_mean, lognormal_variance = get_lognormal_parameters(truth_array)\n",
    "lognormal_sample_data = np.random.lognormal(mean=lognormal_mean, sigma=np.sqrt(lognormal_variance), size=truth_array.size)\n",
    "# sample_data = [i for i in gamma_random_sample(mean, variance, int(4e6))]\n"
   ]
  },
  {
   "cell_type": "code",
   "execution_count": null,
   "metadata": {},
   "outputs": [],
   "source": [
    "(q_99pt9, q_99pt99) = np.quantile(truth_array, [0.999, 0.9999])\n"
   ]
  },
  {
   "cell_type": "code",
   "execution_count": null,
   "metadata": {},
   "outputs": [],
   "source": [
    "from scipy.stats import gamma, lognorm\n",
    "\n",
    "fig, ax = plt.subplots(1,1, figsize=(5,5))\n",
    "\n",
    "ax.hist(truth_array.flatten(), bins=np.arange(0,300,4), histtype= 'step', label='original', density=False)\n",
    "ax.hist(lognormal_sample_data, histtype= 'step', label='lognormal', bins=np.arange(0,300,4), density=False)\n",
    "ax.hist(gamma_sample_data, histtype= 'step', label='gamma', bins=np.arange(0,300,4), density=False)\n",
    "\n",
    "rv = gamma(shape, scale=scale)\n",
    "ax.plot(np.linspace(0,100, 1000), truth_array.size*rv.pdf(np.linspace(0,100, 1000)), 'k--', lw=2, label='gamma')\n",
    "\n",
    "rv = lognorm(lognormal_variance, scale=np.exp(lognormal_mean))\n",
    "ax.plot(np.linspace(0,300, 1000), truth_array.size*rv.pdf(np.linspace(0,300, 1000)), 'r--', lw=2, label='lognormal')\n",
    "\n",
    "ax.vlines(q_99pt99, 0, 10**8, linestyles='--')\n",
    "ax.set_yscale('log')\n",
    "ax.legend()"
   ]
  },
  {
   "attachments": {},
   "cell_type": "markdown",
   "metadata": {},
   "source": [
    "## Fit exponential to tails"
   ]
  },
  {
   "cell_type": "code",
   "execution_count": null,
   "metadata": {},
   "outputs": [],
   "source": [
    "from dsrnngan.benchmarks import get_exponential_tail_params\n",
    "q_99pt99 = np.quantile(truth_array, [0.9999])\n",
    "truth_above_99pt99 = truth_array[np.where(truth_array >= q_99pt99)]\n",
    "\n",
    "# Same for fcst\n",
    "q_99pt99_cgan = np.quantile(samples_gen_array[:,:,:,1], [0.9999])\n",
    "cgan_above_99pt99 = samples_gen_array[:,:,:,1][np.where(samples_gen_array[:,:,:,1] >= q_99pt99)] # Note using obs percentile as cutoff\n"
   ]
  },
  {
   "cell_type": "code",
   "execution_count": null,
   "metadata": {},
   "outputs": [],
   "source": [
    "fig, ax = plt.subplots(1,1, figsize=(5,5))\n",
    "\n",
    "vals, bins, _ = ax.hist(truth_above_99pt99.flatten() - q_99pt99, bins=np.linspace(0,350,175), histtype= 'step', label='original', density=False)\n",
    "vals_cgan, bins_cgan, _ = ax.hist(cgan_above_99pt99.flatten() - q_99pt99, bins=np.linspace(0,350,175), histtype= 'step', label='cgan', density=False)\n",
    "\n",
    "ax.set_yscale('log')\n",
    "# ax.set_xscale('log')\n",
    "ax.legend()"
   ]
  },
  {
   "cell_type": "code",
   "execution_count": null,
   "metadata": {},
   "outputs": [],
   "source": [
    "from sklearn.linear_model import LinearRegression, HuberRegressor\n",
    "\n",
    "coef, intercept, (bin_centres, vals) = get_exponential_tail_params(truth_array.astype(np.float64), 0.9999)\n",
    "coef_cgan, intercept_cgan, (bin_centres_cgan, vals_cgan) = get_exponential_tail_params(samples_gen_array[:,:,:,1].astype(np.float64), 0.9999)\n",
    "\n",
    "plt.plot(bin_centres, np.log( vals))\n",
    "plt.plot(bin_centres, [ intercept + coef*x  for x in bin_centres])\n",
    "\n",
    "plt.plot(bin_centres_cgan, np.log( vals_cgan))\n",
    "plt.plot(bin_centres_cgan, [ intercept_cgan + coef_cgan*x  for x in bin_centres_cgan])"
   ]
  },
  {
   "cell_type": "code",
   "execution_count": null,
   "metadata": {},
   "outputs": [],
   "source": [
    "fig, ax = plt.subplots(1,1, figsize=(5,5))\n",
    "bins = np.linspace(0,350,175)\n",
    "vals, bins, _ = ax.hist(truth_above_99pt99.flatten() - q_99pt99, bins=bins, histtype= 'step', label='IMERG', density=False)\n",
    "vals_fcst, bins_Fcst, _ = ax.hist((cgan_above_99pt99.flatten() - q_99pt99)*coef_cgan/coef, bins=bins, histtype= 'step', label='cGAN: corrected', density=False)\n",
    "vals_fcst, bins_Fcst, _ = ax.hist((cgan_above_99pt99.flatten() - q_99pt99), bins=bins, histtype= 'step', label='cGAN', density=False)\n",
    "ax.legend()\n",
    "ax.set_yscale('log')\n",
    "ax.set_ylabel('Count')\n",
    "ax.set_xlabel('Precipitation (mm/hr)')"
   ]
  },
  {
   "cell_type": "code",
   "execution_count": null,
   "metadata": {},
   "outputs": [],
   "source": [
    "cgan_corrected = samples_gen_array[:,:,:,1].copy()\n",
    "cgan_corrected[np.where(samples_gen_array[:,:,:,1] >= q_99pt99)] = cgan_corrected[np.where(samples_gen_array[:,:,:,1] >= q_99pt99)]*coef_cgan/coef"
   ]
  },
  {
   "cell_type": "code",
   "execution_count": null,
   "metadata": {},
   "outputs": [],
   "source": []
  }
 ],
 "metadata": {
  "kernelspec": {
   "display_name": "Python 3 (ipykernel)",
   "language": "python",
   "name": "python3"
  }
 },
 "nbformat": 4,
 "nbformat_minor": 2
}
