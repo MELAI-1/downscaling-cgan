{
 "cells": [
  {
   "cell_type": "code",
   "execution_count": 2,
   "metadata": {},
   "outputs": [],
   "source": [
    "import tarfile\n",
    "import tempfile"
   ]
  },
  {
   "cell_type": "code",
   "execution_count": 10,
   "metadata": {},
   "outputs": [],
   "source": [
    "ifs_output_dir = '/user/work/uz22147/ifs_east_africa'\n",
    "\n",
    "year = 2018\n",
    "month = 7\n",
    "day = 4\n",
    "hour = 12\n"
   ]
  },
  {
   "cell_type": "code",
   "execution_count": 7,
   "metadata": {},
   "outputs": [],
   "source": [
    "import tarfile\n",
    "import os\n",
    "from glob import glob\n",
    "\n",
    "tmp_dir = 'tmp'\n",
    "\n",
    "tar = tarfile.open(os.path.join('/user/work/uz22147/ifs_east_africa', \"HRES_1h_EAfrica_2017-07-04_12h.tar\"), \"r\")\n",
    "tar.extractall(tmp_dir)"
   ]
  },
  {
   "cell_type": "code",
   "execution_count": 8,
   "metadata": {},
   "outputs": [],
   "source": [
    "# copy the files from temp folder into appropriate ifs folder\n",
    "fps = glob(os.path.join(tmp_dir, '*.nc'))"
   ]
  },
  {
   "cell_type": "code",
   "execution_count": 30,
   "metadata": {},
   "outputs": [
    {
     "name": "stderr",
     "output_type": "stream",
     "text": [
      "  0%|          | 0/1 [00:12<?, ?it/s]"
     ]
    },
    {
     "name": "stdout",
     "output_type": "stream",
     "text": [
      "/tmp/tmpzh70560i/2t_HRES_1h_EAfrica_2017-07-04_12h.nc\n"
     ]
    },
    {
     "name": "stderr",
     "output_type": "stream",
     "text": [
      "\n"
     ]
    },
    {
     "ename": "FileNotFoundError",
     "evalue": "[Errno 2] No such file or directory: '/user/work/uz22147/ifs_east_africa/tmp/tmp'",
     "output_type": "error",
     "traceback": [
      "\u001b[0;31m---------------------------------------------------------------------------\u001b[0m",
      "\u001b[0;31mFileNotFoundError\u001b[0m                         Traceback (most recent call last)",
      "\u001b[1;32m/user/home/uz22147/repos/downscaling-cgan/notebooks/unpack_ifs_data.ipynb Cell 5\u001b[0m in \u001b[0;36m<cell line: 2>\u001b[0;34m()\u001b[0m\n\u001b[1;32m     <a href='vscode-notebook-cell://ssh-remote%2Bbp1-login/user/home/uz22147/repos/downscaling-cgan/notebooks/unpack_ifs_data.ipynb#W4sdnNjb2RlLXJlbW90ZQ%3D%3D?line=29'>30</a>\u001b[0m     shutil\u001b[39m.\u001b[39mcopyfile(data_fp, os\u001b[39m.\u001b[39mpath\u001b[39m.\u001b[39mjoin(subdir, filename))\n\u001b[1;32m     <a href='vscode-notebook-cell://ssh-remote%2Bbp1-login/user/home/uz22147/repos/downscaling-cgan/notebooks/unpack_ifs_data.ipynb#W4sdnNjb2RlLXJlbW90ZQ%3D%3D?line=31'>32</a>\u001b[0m \u001b[39melse\u001b[39;00m:\n\u001b[0;32m---> <a href='vscode-notebook-cell://ssh-remote%2Bbp1-login/user/home/uz22147/repos/downscaling-cgan/notebooks/unpack_ifs_data.ipynb#W4sdnNjb2RlLXJlbW90ZQ%3D%3D?line=32'>33</a>\u001b[0m     shutil\u001b[39m.\u001b[39;49mcopyfile(data_fp, os\u001b[39m.\u001b[39;49mpath\u001b[39m.\u001b[39;49mjoin(ifs_output_dir, top_level_folder, filename))\n",
      "File \u001b[0;32m/user/work/uz22147/miniconda3/lib/python3.9/shutil.py:266\u001b[0m, in \u001b[0;36mcopyfile\u001b[0;34m(src, dst, follow_symlinks)\u001b[0m\n\u001b[1;32m    264\u001b[0m \u001b[39mwith\u001b[39;00m \u001b[39mopen\u001b[39m(src, \u001b[39m'\u001b[39m\u001b[39mrb\u001b[39m\u001b[39m'\u001b[39m) \u001b[39mas\u001b[39;00m fsrc:\n\u001b[1;32m    265\u001b[0m     \u001b[39mtry\u001b[39;00m:\n\u001b[0;32m--> 266\u001b[0m         \u001b[39mwith\u001b[39;00m \u001b[39mopen\u001b[39;49m(dst, \u001b[39m'\u001b[39;49m\u001b[39mwb\u001b[39;49m\u001b[39m'\u001b[39;49m) \u001b[39mas\u001b[39;00m fdst:\n\u001b[1;32m    267\u001b[0m             \u001b[39m# macOS\u001b[39;00m\n\u001b[1;32m    268\u001b[0m             \u001b[39mif\u001b[39;00m _HAS_FCOPYFILE:\n\u001b[1;32m    269\u001b[0m                 \u001b[39mtry\u001b[39;00m:\n",
      "\u001b[0;31mFileNotFoundError\u001b[0m: [Errno 2] No such file or directory: '/user/work/uz22147/ifs_east_africa/tmp/tmp'"
     ]
    }
   ],
   "source": [
    "tar_fps = glob('/user/work/uz22147/ifs_east_africa/*.tar')\n",
    "for fp in tqdm(tar_fps, total=len(tar_fps)):\n",
    "    with tempfile.TemporaryDirectory() as tmp_dir:\n",
    "        tar = tarfile.open(fp, \"r\")\n",
    "        tar.extractall(tmp_dir)\n",
    "        \n",
    "        data_fps = glob(os.path.join(tmp_dir, '*.nc'))\n",
    "\n",
    "        for data_fp in data_fps:\n",
    "            \n",
    "            print(data_fp)\n",
    "            filename = data_fp.split('/')[-1]\n",
    "            var = filename.split('_')[0]\n",
    "            top_level_folder = var\n",
    "            subdirectory = True\n",
    "\n",
    "            for char in '0123456789':\n",
    "                if char in top_level_folder:\n",
    "                    top_level_folder = top_level_folder.replace(char, '')\n",
    "                    \n",
    "            if top_level_folder == var:\n",
    "                subdirectory = False\n",
    "                \n",
    "            if subdirectory:\n",
    "                subdir = os.path.join(ifs_output_dir, top_level_folder, var)\n",
    "                \n",
    "                if not os.path.isdir(subdir):\n",
    "                    os.mkdir(subdir)\n",
    "                    \n",
    "                shutil.copyfile(data_fp, os.path.join(subdir, filename))\n",
    "\n",
    "            else:\n",
    "                shutil.copyfile(data_fp, os.path.join(ifs_output_dir, top_level_folder, filename))\n",
    "\n",
    "\n"
   ]
  },
  {
   "cell_type": "code",
   "execution_count": 28,
   "metadata": {},
   "outputs": [
    {
     "data": {
      "text/plain": [
       "2.3333333333333335"
      ]
     },
     "execution_count": 28,
     "metadata": {},
     "output_type": "execute_result"
    }
   ],
   "source": [
    "12*700 / 3600"
   ]
  }
 ],
 "metadata": {
  "kernelspec": {
   "display_name": "Python 3.9.12 ('base')",
   "language": "python",
   "name": "python3"
  },
  "language_info": {
   "codemirror_mode": {
    "name": "ipython",
    "version": 3
   },
   "file_extension": ".py",
   "mimetype": "text/x-python",
   "name": "python",
   "nbconvert_exporter": "python",
   "pygments_lexer": "ipython3",
   "version": "3.9.12"
  },
  "orig_nbformat": 4,
  "vscode": {
   "interpreter": {
    "hash": "e41783afaa3f5d449c229f6d97ffb609c8a0e066baa45e2dd73a3d3295527dac"
   }
  }
 },
 "nbformat": 4,
 "nbformat_minor": 2
}
